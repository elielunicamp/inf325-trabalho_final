{
 "cells": [
  {
   "cell_type": "code",
   "execution_count": 26,
   "metadata": {},
   "outputs": [],
   "source": [
    "import redis\n",
    "import mariadb\n",
    "import sys\n",
    "from faker import Faker"
   ]
  },
  {
   "cell_type": "code",
   "execution_count": 27,
   "metadata": {},
   "outputs": [],
   "source": [
    "# Conectando ao MariaDB\n",
    "try:\n",
    "    db = mariadb.connect(\n",
    "        host=\"127.0.0.1\",\n",
    "        user=\"epinga_db_user\",\n",
    "        password=\"epinga_db_password\",\n",
    "        database=\"epinga_db\",\n",
    "        port=3306\n",
    "    )\n",
    "except mariadb.Error as e:\n",
    "    print(f\"Error connecting to MariaDB Platform: {e}\")\n",
    "    sys.exit(1)\n",
    "\n",
    "cursor = db.cursor()"
   ]
  },
  {
   "cell_type": "code",
   "execution_count": 28,
   "metadata": {},
   "outputs": [
    {
     "ename": "RuntimeError",
     "evalue": "Failed to create exception",
     "output_type": "error",
     "traceback": [
      "\u001b[0;31m---------------------------------------------------------------------------\u001b[0m",
      "\u001b[0;31mRuntimeError\u001b[0m                              Traceback (most recent call last)",
      "Cell \u001b[0;32mIn[28], line 15\u001b[0m\n\u001b[1;32m     12\u001b[0m     password_hash \u001b[38;5;241m=\u001b[39m faker\u001b[38;5;241m.\u001b[39mmd5(raw_output\u001b[38;5;241m=\u001b[39m\u001b[38;5;28;01mFalse\u001b[39;00m)\n\u001b[1;32m     13\u001b[0m     register_date \u001b[38;5;241m=\u001b[39m faker\u001b[38;5;241m.\u001b[39mdate_time()\n\u001b[0;32m---> 15\u001b[0m     \u001b[43mcursor\u001b[49m\u001b[38;5;241;43m.\u001b[39;49m\u001b[43mexecute\u001b[49m\u001b[43m(\u001b[49m\u001b[38;5;124;43m'''\u001b[39;49m\n\u001b[1;32m     16\u001b[0m \u001b[38;5;124;43m        INSERT INTO user (document, first_name, last_name, email, password_hash, register_date)\u001b[39;49m\n\u001b[1;32m     17\u001b[0m \u001b[38;5;124;43m        VALUES (\u001b[39;49m\u001b[38;5;132;43;01m%s\u001b[39;49;00m\u001b[38;5;124;43m, \u001b[39;49m\u001b[38;5;132;43;01m%s\u001b[39;49;00m\u001b[38;5;124;43m, \u001b[39;49m\u001b[38;5;132;43;01m%s\u001b[39;49;00m\u001b[38;5;124;43m, \u001b[39;49m\u001b[38;5;132;43;01m%s\u001b[39;49;00m\u001b[38;5;124;43m, \u001b[39;49m\u001b[38;5;132;43;01m%s\u001b[39;49;00m\u001b[38;5;124;43m, \u001b[39;49m\u001b[38;5;132;43;01m%s\u001b[39;49;00m\u001b[38;5;124;43m, \u001b[39;49m\u001b[38;5;132;43;01m%s\u001b[39;49;00m\u001b[38;5;124;43m)\u001b[39;49m\n\u001b[1;32m     18\u001b[0m \u001b[38;5;124;43m    \u001b[39;49m\u001b[38;5;124;43m'''\u001b[39;49m\u001b[43m,\u001b[49m\u001b[43m \u001b[49m\u001b[43m(\u001b[49m\u001b[43mdocument\u001b[49m\u001b[43m,\u001b[49m\u001b[43m \u001b[49m\u001b[43mfirst_name\u001b[49m\u001b[43m,\u001b[49m\u001b[43m \u001b[49m\u001b[43mlast_name\u001b[49m\u001b[43m,\u001b[49m\u001b[43m \u001b[49m\u001b[43memail\u001b[49m\u001b[43m,\u001b[49m\u001b[43m \u001b[49m\u001b[43mpassword_hash\u001b[49m\u001b[43m,\u001b[49m\u001b[43m \u001b[49m\u001b[43mregister_date\u001b[49m\u001b[43m)\u001b[49m\u001b[43m)\u001b[49m\n\u001b[1;32m     20\u001b[0m \u001b[38;5;66;03m# Commit the transaction\u001b[39;00m\n\u001b[1;32m     21\u001b[0m db\u001b[38;5;241m.\u001b[39mcommit()\n",
      "\u001b[0;31mRuntimeError\u001b[0m: Failed to create exception"
     ]
    }
   ],
   "source": [
    "#Inicializando o Faker\n",
    "faker = Faker()\n",
    "\n",
    "#Inserindo dados fake\n",
    "for _ in range(100):  # Adjust the range for the number of records you want\n",
    "    \n",
    "    #table user\n",
    "    document = faker.building_number()\n",
    "    first_name = faker.first_name()\n",
    "    last_name = faker.last_name()   \n",
    "    email = faker.email()\n",
    "    password_hash = faker.md5(raw_output=False)\n",
    "    register_date = faker.date_time()\n",
    "\n",
    "    cursor.execute('''\n",
    "        INSERT INTO user (document, first_name, last_name, email, password_hash, register_date)\n",
    "        VALUES (%s, %s, %s, %s, %s, %s)\n",
    "    ''', (document, first_name, last_name, email, password_hash, register_date))\n",
    "\n",
    "# Commit the transaction\n",
    "db.commit()"
   ]
  },
  {
   "cell_type": "code",
   "execution_count": null,
   "metadata": {},
   "outputs": [],
   "source": []
  },
  {
   "cell_type": "code",
   "execution_count": null,
   "metadata": {},
   "outputs": [],
   "source": []
  }
 ],
 "metadata": {
  "kernelspec": {
   "display_name": "Python 3",
   "language": "python",
   "name": "python3"
  },
  "language_info": {
   "codemirror_mode": {
    "name": "ipython",
    "version": 3
   },
   "file_extension": ".py",
   "mimetype": "text/x-python",
   "name": "python",
   "nbconvert_exporter": "python",
   "pygments_lexer": "ipython3",
   "version": "3.10.12"
  }
 },
 "nbformat": 4,
 "nbformat_minor": 2
}
