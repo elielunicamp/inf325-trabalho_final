{
 "cells": [
  {
   "cell_type": "markdown",
   "metadata": {},
   "source": [
    "# This a database lab of the project e-pinga."
   ]
  },
  {
   "cell_type": "markdown",
   "metadata": {},
   "source": [
    "### Importing libs in Python to use throughout the notebook"
   ]
  },
  {
   "cell_type": "code",
   "execution_count": 17,
   "metadata": {},
   "outputs": [],
   "source": [
    "import redis\n",
    "import mariadb\n",
    "import sys\n",
    "import random\n",
    "from faker import Faker"
   ]
  },
  {
   "cell_type": "markdown",
   "metadata": {},
   "source": [
    "### Connecting to the relational database MariaDB using Python and the lib mariadb."
   ]
  },
  {
   "cell_type": "code",
   "execution_count": 18,
   "metadata": {},
   "outputs": [],
   "source": [
    "# Conectando ao MariaDB\n",
    "try:\n",
    "    db = mariadb.connect(\n",
    "        host=\"127.0.0.1\",\n",
    "        user=\"epinga_db_user\",\n",
    "        password=\"epinga_db_password\",\n",
    "        database=\"epinga_db\",\n",
    "        port=3306\n",
    "    )\n",
    "except mariadb.Error as e:\n",
    "    print(f\"Error connecting to MariaDB Platform: {e}\")\n",
    "    sys.exit(1)\n",
    "\n",
    "cursor = db.cursor()"
   ]
  },
  {
   "cell_type": "markdown",
   "metadata": {},
   "source": [
    "### Populating the MariaDB relational database with data using Faker."
   ]
  },
  {
   "cell_type": "code",
   "execution_count": 19,
   "metadata": {},
   "outputs": [
    {
     "ename": "IntegrityError",
     "evalue": "Duplicate entry '71' for key 'PRIMARY'",
     "output_type": "error",
     "traceback": [
      "\u001b[0;31m---------------------------------------------------------------------------\u001b[0m",
      "\u001b[0;31mIntegrityError\u001b[0m                            Traceback (most recent call last)",
      "Cell \u001b[0;32mIn[19], line 13\u001b[0m\n\u001b[1;32m     10\u001b[0m     password_hash \u001b[38;5;241m=\u001b[39m faker\u001b[38;5;241m.\u001b[39mmd5(raw_output\u001b[38;5;241m=\u001b[39m\u001b[38;5;28;01mFalse\u001b[39;00m)\n\u001b[1;32m     11\u001b[0m     register_date \u001b[38;5;241m=\u001b[39m faker\u001b[38;5;241m.\u001b[39mdate_time()\n\u001b[0;32m---> 13\u001b[0m     \u001b[43mcursor\u001b[49m\u001b[38;5;241;43m.\u001b[39;49m\u001b[43mexecute\u001b[49m\u001b[43m(\u001b[49m\u001b[38;5;124;43m'''\u001b[39;49m\n\u001b[1;32m     14\u001b[0m \u001b[38;5;124;43m        INSERT INTO user (document, first_name, last_name, email, password_hash, register_date)\u001b[39;49m\n\u001b[1;32m     15\u001b[0m \u001b[38;5;124;43m        VALUES (\u001b[39;49m\u001b[38;5;132;43;01m%s\u001b[39;49;00m\u001b[38;5;124;43m, \u001b[39;49m\u001b[38;5;132;43;01m%s\u001b[39;49;00m\u001b[38;5;124;43m, \u001b[39;49m\u001b[38;5;132;43;01m%s\u001b[39;49;00m\u001b[38;5;124;43m, \u001b[39;49m\u001b[38;5;132;43;01m%s\u001b[39;49;00m\u001b[38;5;124;43m, \u001b[39;49m\u001b[38;5;132;43;01m%s\u001b[39;49;00m\u001b[38;5;124;43m, \u001b[39;49m\u001b[38;5;132;43;01m%s\u001b[39;49;00m\u001b[38;5;124;43m)\u001b[39;49m\n\u001b[1;32m     16\u001b[0m \u001b[38;5;124;43m    \u001b[39;49m\u001b[38;5;124;43m'''\u001b[39;49m\u001b[43m,\u001b[49m\u001b[43m \u001b[49m\u001b[43m(\u001b[49m\u001b[43mdocument\u001b[49m\u001b[43m,\u001b[49m\u001b[43m \u001b[49m\u001b[43mfirst_name\u001b[49m\u001b[43m,\u001b[49m\u001b[43m \u001b[49m\u001b[43mlast_name\u001b[49m\u001b[43m,\u001b[49m\u001b[43m \u001b[49m\u001b[43memail\u001b[49m\u001b[43m,\u001b[49m\u001b[43m \u001b[49m\u001b[43mpassword_hash\u001b[49m\u001b[43m,\u001b[49m\u001b[43m \u001b[49m\u001b[43mregister_date\u001b[49m\u001b[43m)\u001b[49m\u001b[43m)\u001b[49m\n\u001b[1;32m     18\u001b[0m \u001b[38;5;28;01mfor\u001b[39;00m _ \u001b[38;5;129;01min\u001b[39;00m \u001b[38;5;28mrange\u001b[39m(\u001b[38;5;241m5\u001b[39m):\n\u001b[1;32m     19\u001b[0m     name \u001b[38;5;241m=\u001b[39m random\u001b[38;5;241m.\u001b[39mchoices([\u001b[38;5;124m\"\u001b[39m\u001b[38;5;124mpinga\u001b[39m\u001b[38;5;124m\"\u001b[39m, \u001b[38;5;124m\"\u001b[39m\u001b[38;5;124mwhisky\u001b[39m\u001b[38;5;124m\"\u001b[39m, \u001b[38;5;124m\"\u001b[39m\u001b[38;5;124mcerveja\u001b[39m\u001b[38;5;124m\"\u001b[39m, \u001b[38;5;124m\"\u001b[39m\u001b[38;5;124mchampagne\u001b[39m\u001b[38;5;124m\"\u001b[39m, \u001b[38;5;124m\"\u001b[39m\u001b[38;5;124mvinho\u001b[39m\u001b[38;5;124m\"\u001b[39m], weights \u001b[38;5;241m=\u001b[39m [\u001b[38;5;241m1\u001b[39m, \u001b[38;5;241m1\u001b[39m, \u001b[38;5;241m1\u001b[39m, \u001b[38;5;241m1\u001b[39m, \u001b[38;5;241m1\u001b[39m], k \u001b[38;5;241m=\u001b[39m \u001b[38;5;241m1\u001b[39m)[\u001b[38;5;241m0\u001b[39m]\n",
      "\u001b[0;31mIntegrityError\u001b[0m: Duplicate entry '71' for key 'PRIMARY'"
     ]
    }
   ],
   "source": [
    "#Inicializando o Faker\n",
    "faker = Faker()\n",
    "\n",
    "# #Inserindo dados fake\n",
    "for _ in range(100):  \n",
    "    document = _\n",
    "    first_name = faker.first_name()\n",
    "    last_name = faker.last_name()   \n",
    "    email = faker.email()\n",
    "    password_hash = faker.md5(raw_output=False)\n",
    "    register_date = faker.date_time()\n",
    "\n",
    "    cursor.execute('''\n",
    "        INSERT INTO user (document, first_name, last_name, email, password_hash, register_date)\n",
    "        VALUES (%s, %s, %s, %s, %s, %s)\n",
    "    ''', (document, first_name, last_name, email, password_hash, register_date))\n",
    "\n",
    "for _ in range(5):\n",
    "    name = random.choices([\"pinga\", \"whisky\", \"cerveja\", \"champagne\", \"vinho\"], weights = [1, 1, 1, 1, 1], k = 1)[0]\n",
    "    category = random.choices([\"categoria1\", \"categoria2\", \"categoria3\"], weights = [1, 1, 1], k = 1)[0]\n",
    "    description = random.choices([\"lorem ipsum ipsum\", \"lorem ipsaaam ipsaam\", \"lorem ipsaaam ipsaam lorem lorem\"], weights = [10, 1, 1], k = 1)[0]\n",
    "    stock = random.choices([1, 3, 5, 7, 9, 13], weights = [1, 1, 1, 1, 1, 1], k = 1)[0]\n",
    "    price = random.choices([20.99, 3.99, 5.44, 7.99, 9.99, 13.00], weights = [1, 1, 1, 1, 1, 1], k = 1)[0]\n",
    "\n",
    "    cursor.execute('''\n",
    "        INSERT INTO product (name, category, description, stock, price)\n",
    "        VALUES (%s, %s, %s, %s, %s)\n",
    "    ''', (name, category, description, stock, price))\n",
    "\n",
    "for _ in range(4):\n",
    "    status_name = random.choices([\"aberto\", \"faturado\", \"despachado\", \"em_separacao\"], weights = [1, 1, 1, 1], k = 1)[0]\n",
    "    cursor.execute('''\n",
    "        INSERT INTO order_status (status_name) VALUES (%s)\n",
    "    ''', (status_name,))\n",
    "\n",
    "for _ in range(3):\n",
    "    payment_name = random.choices([\"cartao de credito\", \"boleto\", \"pix\"], weights=[1, 1, 1], k=1)[0]\n",
    "    cursor.execute('''\n",
    "        INSERT INTO payment (payment_name) VALUES (%s)\n",
    "    ''', (payment_name,))\n",
    "\n",
    "for _ in range(10):\n",
    "    id_payment = random.choices([1, 2, 3], weights = [1, 1, 1], k = 1)[0]\n",
    "    user_document = random.choices([71, 227, 259], weights = [1, 1, 1], k = 1)[0]\n",
    "    order_date = faker.date_time()\n",
    "    payment_date = faker.date_time()\n",
    "    destination_address = random.choices([\"Avenue first\", \"Avenue second\", \"Avenue third\"], weights = [10, 1, 1], k = 1)[0]\n",
    "    id_order_status = random.choices([1, 2, 3, 4], weights = [1, 1, 1, 1], k = 1)[0]\n",
    "\n",
    "    cursor.execute('''\n",
    "        INSERT INTO orders (id_payment, user_document, order_date, payment_date, destination_address, id_order_status)\n",
    "        VALUES (%s, %s, %s, %s, %s, %s)\n",
    "    ''', (id_payment, user_document, order_date, payment_date, destination_address, id_order_status))\n",
    "\n",
    "for _ in range(15):\n",
    "    id_order = random.choices([1, 2, 3, 4, 5, 6, 7, 8, 9, 10], weights = [1, 1, 1, 1, 1, 1, 1, 1, 1, 1], k = 1)[0]\n",
    "    id_product = random.choices([1, 2, 3, 4, 5], weights = [1, 1, 1, 1, 1], k = 1)[0]\n",
    "    quantity = random.choices([1, 2, 3, 4, 5], weights = [1, 1, 1, 1, 1], k = 1)[0]\n",
    "    unit_price = random.choices([20.99, 3.99, 5.44, 7.99, 9.99, 13.00], weights = [1, 1, 1, 1, 1, 1], k = 1)[0]\n",
    "    order_total = quantity * unit_price\n",
    "    discount = 0\n",
    "\n",
    "    cursor.execute('''\n",
    "        INSERT INTO order_itens (id_order, id_product, quantity, unit_price, order_total, discount)\n",
    "        VALUES (%s, %s, %s, %s, %s, %s)\n",
    "    ''', (id_order, id_product, quantity, unit_price, order_total, discount))\n",
    "    \n",
    "#Commit the transaction\n",
    "db.commit()"
   ]
  },
  {
   "cell_type": "markdown",
   "metadata": {},
   "source": [
    "### Searching for users in users table and result limited in 10"
   ]
  },
  {
   "cell_type": "code",
   "execution_count": 22,
   "metadata": {},
   "outputs": [
    {
     "name": "stdout",
     "output_type": "stream",
     "text": [
      "(71, 'Michelle', 'Burke', datetime.date(1997, 9, 5))\n",
      "(227, 'Courtney', 'Lucero', datetime.date(1994, 9, 17))\n",
      "(246, 'Daisy', 'Stevenson', datetime.date(2012, 3, 10))\n",
      "(250, 'David', 'Clark', datetime.date(1997, 2, 15))\n",
      "(259, 'Shawn', 'Hooper', datetime.date(1993, 10, 2))\n",
      "(293, 'James', 'Harris', datetime.date(2021, 5, 5))\n",
      "(298, 'Benjamin', 'Doyle', datetime.date(1996, 8, 25))\n",
      "(307, 'Sharon', 'Taylor', datetime.date(1981, 12, 16))\n",
      "(352, 'Amanda', 'Wood', datetime.date(1980, 7, 21))\n",
      "(382, 'John', 'Carter', datetime.date(2004, 9, 4))\n"
     ]
    }
   ],
   "source": [
    "query = \"SELECT document, first_name, last_name, register_date FROM user LIMIT 10\"\n",
    "cursor.execute(query)\n",
    "result = cursor.fetchall()\n",
    "\n",
    "for row in result:\n",
    "    print(row)"
   ]
  },
  {
   "cell_type": "markdown",
   "metadata": {},
   "source": [
    "### Searching for products in product table and result limited in 10"
   ]
  },
  {
   "cell_type": "code",
   "execution_count": 8,
   "metadata": {},
   "outputs": [
    {
     "name": "stdout",
     "output_type": "stream",
     "text": [
      "('cerveja', 'categoria2', 'lorem ipsum ipsum', 3, 20.99)\n",
      "('whisky', 'categoria2', 'lorem ipsum ipsum', 13, 5.44)\n",
      "('whisky', 'categoria3', 'lorem ipsum ipsum', 9, 20.99)\n",
      "('cerveja', 'categoria3', 'lorem ipsum ipsum', 5, 7.99)\n",
      "('cerveja', 'categoria1', 'lorem ipsum ipsum', 5, 3.99)\n"
     ]
    }
   ],
   "source": [
    "query = \"SELECT name, category, description, stock, price FROM product LIMIT 10\"\n",
    "cursor.execute(query)\n",
    "result = cursor.fetchall()\n",
    "\n",
    "for row in result:\n",
    "    print(row)"
   ]
  },
  {
   "cell_type": "markdown",
   "metadata": {},
   "source": [
    "### Searching for orders in orders table and result limited in 10"
   ]
  },
  {
   "cell_type": "code",
   "execution_count": 16,
   "metadata": {},
   "outputs": [
    {
     "name": "stdout",
     "output_type": "stream",
     "text": [
      "(2, 71, datetime.datetime(1989, 3, 28, 21, 46, 43), datetime.datetime(1979, 2, 15, 21, 5, 55), 'Avenue first', 1)\n",
      "(3, 227, datetime.datetime(2020, 6, 8, 3, 2, 5), datetime.datetime(1995, 12, 16, 10, 35, 51), 'Avenue first', 4)\n",
      "(3, 227, datetime.datetime(2007, 8, 29, 22, 7, 50), datetime.datetime(2013, 11, 30, 18, 4, 41), 'Avenue first', 2)\n",
      "(3, 71, datetime.datetime(1991, 1, 26, 22, 49, 20), datetime.datetime(1982, 3, 26, 19, 56, 38), 'Avenue first', 3)\n",
      "(1, 227, datetime.datetime(1987, 10, 25, 5, 8, 1), datetime.datetime(1990, 6, 9, 18, 34, 14), 'Avenue first', 4)\n",
      "(3, 259, datetime.datetime(1976, 9, 16, 22, 8, 23), datetime.datetime(2017, 7, 14, 9, 56, 58), 'Avenue first', 3)\n",
      "(2, 259, datetime.datetime(2005, 12, 6, 4, 22, 33), datetime.datetime(1974, 4, 23, 7, 28, 38), 'Avenue first', 2)\n",
      "(3, 227, datetime.datetime(1974, 8, 2, 8, 17, 34), datetime.datetime(2005, 1, 1, 18, 32, 14), 'Avenue first', 2)\n",
      "(1, 259, datetime.datetime(2009, 4, 30, 19, 20, 3), datetime.datetime(2012, 4, 6, 15, 20, 54), 'Avenue first', 3)\n",
      "(3, 259, datetime.datetime(2004, 3, 24, 14, 17, 37), datetime.datetime(1989, 11, 25, 8, 33, 59), 'Avenue first', 2)\n"
     ]
    }
   ],
   "source": [
    "query = \"SELECT id_payment, user_document, order_date, payment_date, destionation_address, id_order_status FROM orders LIMIT 10\"\n",
    "cursor.execute(query)\n",
    "result = cursor.fetchall()\n",
    "\n",
    "for row in result:\n",
    "    print(row)"
   ]
  },
  {
   "cell_type": "markdown",
   "metadata": {},
   "source": [
    "### Searching for order_itens in order_itens table and result limited in 10"
   ]
  },
  {
   "cell_type": "code",
   "execution_count": 13,
   "metadata": {},
   "outputs": [
    {
     "name": "stdout",
     "output_type": "stream",
     "text": [
      "(4, 5, 5, 7.99, 39.95, 0.0)\n",
      "(2, 4, 2, 13.0, 26.0, 0.0)\n",
      "(4, 3, 4, 3.99, 15.96, 0.0)\n",
      "(3, 3, 4, 5.44, 21.76, 0.0)\n",
      "(8, 2, 2, 5.44, 10.88, 0.0)\n",
      "(2, 1, 1, 13.0, 13.0, 0.0)\n",
      "(3, 1, 4, 7.99, 31.96, 0.0)\n",
      "(5, 1, 3, 3.99, 11.97, 0.0)\n",
      "(9, 2, 5, 5.44, 27.2, 0.0)\n",
      "(10, 4, 3, 9.99, 29.97, 0.0)\n"
     ]
    }
   ],
   "source": [
    "query = \"SELECT id_order, id_product, quantity, unit_price, order_total, discount FROM order_itens LIMIT 10\"\n",
    "cursor.execute(query)\n",
    "result = cursor.fetchall()\n",
    "\n",
    "for row in result:\n",
    "    print(row)"
   ]
  }
 ],
 "metadata": {
  "kernelspec": {
   "display_name": "Python 3",
   "language": "python",
   "name": "python3"
  },
  "language_info": {
   "codemirror_mode": {
    "name": "ipython",
    "version": 3
   },
   "file_extension": ".py",
   "mimetype": "text/x-python",
   "name": "python",
   "nbconvert_exporter": "python",
   "pygments_lexer": "ipython3",
   "version": "3.10.12"
  }
 },
 "nbformat": 4,
 "nbformat_minor": 2
}
