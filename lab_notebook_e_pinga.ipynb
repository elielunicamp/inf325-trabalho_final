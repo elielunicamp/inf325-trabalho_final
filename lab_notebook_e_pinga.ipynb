{
 "cells": [
  {
   "cell_type": "markdown",
   "metadata": {},
   "source": [
    "# This a database lab of the project e-pinga."
   ]
  },
  {
   "cell_type": "markdown",
   "metadata": {},
   "source": [
    "### Importing libs in Python to use throughout the notebook"
   ]
  },
  {
   "cell_type": "code",
   "execution_count": 22,
   "metadata": {},
   "outputs": [],
   "source": [
    "import redis\n",
    "import pickle\n",
    "import mariadb\n",
    "import sys\n",
    "import random\n",
    "from faker import Faker"
   ]
  },
  {
   "cell_type": "markdown",
   "metadata": {},
   "source": [
    "### Connecting to the relational database MariaDB using Python and the lib mariadb."
   ]
  },
  {
   "cell_type": "code",
   "execution_count": 18,
   "metadata": {},
   "outputs": [],
   "source": [
    "# Conectando ao MariaDB\n",
    "try:\n",
    "    db = mariadb.connect(\n",
    "        host=\"127.0.0.1\",\n",
    "        user=\"epinga_db_user\",\n",
    "        password=\"epinga_db_password\",\n",
    "        database=\"epinga_db\",\n",
    "        port=3306\n",
    "    )\n",
    "except mariadb.Error as e:\n",
    "    print(f\"Error connecting to MariaDB Platform: {e}\")\n",
    "    sys.exit(1)\n",
    "\n",
    "cursor = db.cursor()"
   ]
  },
  {
   "cell_type": "markdown",
   "metadata": {},
   "source": [
    "### Populating the MariaDB relational database with data using Faker."
   ]
  },
  {
   "cell_type": "code",
   "execution_count": 19,
   "metadata": {},
   "outputs": [
    {
     "ename": "IntegrityError",
     "evalue": "Duplicate entry '71' for key 'PRIMARY'",
     "output_type": "error",
     "traceback": [
      "\u001b[0;31m---------------------------------------------------------------------------\u001b[0m",
      "\u001b[0;31mIntegrityError\u001b[0m                            Traceback (most recent call last)",
      "Cell \u001b[0;32mIn[19], line 13\u001b[0m\n\u001b[1;32m     10\u001b[0m     password_hash \u001b[38;5;241m=\u001b[39m faker\u001b[38;5;241m.\u001b[39mmd5(raw_output\u001b[38;5;241m=\u001b[39m\u001b[38;5;28;01mFalse\u001b[39;00m)\n\u001b[1;32m     11\u001b[0m     register_date \u001b[38;5;241m=\u001b[39m faker\u001b[38;5;241m.\u001b[39mdate_time()\n\u001b[0;32m---> 13\u001b[0m     \u001b[43mcursor\u001b[49m\u001b[38;5;241;43m.\u001b[39;49m\u001b[43mexecute\u001b[49m\u001b[43m(\u001b[49m\u001b[38;5;124;43m'''\u001b[39;49m\n\u001b[1;32m     14\u001b[0m \u001b[38;5;124;43m        INSERT INTO user (document, first_name, last_name, email, password_hash, register_date)\u001b[39;49m\n\u001b[1;32m     15\u001b[0m \u001b[38;5;124;43m        VALUES (\u001b[39;49m\u001b[38;5;132;43;01m%s\u001b[39;49;00m\u001b[38;5;124;43m, \u001b[39;49m\u001b[38;5;132;43;01m%s\u001b[39;49;00m\u001b[38;5;124;43m, \u001b[39;49m\u001b[38;5;132;43;01m%s\u001b[39;49;00m\u001b[38;5;124;43m, \u001b[39;49m\u001b[38;5;132;43;01m%s\u001b[39;49;00m\u001b[38;5;124;43m, \u001b[39;49m\u001b[38;5;132;43;01m%s\u001b[39;49;00m\u001b[38;5;124;43m, \u001b[39;49m\u001b[38;5;132;43;01m%s\u001b[39;49;00m\u001b[38;5;124;43m)\u001b[39;49m\n\u001b[1;32m     16\u001b[0m \u001b[38;5;124;43m    \u001b[39;49m\u001b[38;5;124;43m'''\u001b[39;49m\u001b[43m,\u001b[49m\u001b[43m \u001b[49m\u001b[43m(\u001b[49m\u001b[43mdocument\u001b[49m\u001b[43m,\u001b[49m\u001b[43m \u001b[49m\u001b[43mfirst_name\u001b[49m\u001b[43m,\u001b[49m\u001b[43m \u001b[49m\u001b[43mlast_name\u001b[49m\u001b[43m,\u001b[49m\u001b[43m \u001b[49m\u001b[43memail\u001b[49m\u001b[43m,\u001b[49m\u001b[43m \u001b[49m\u001b[43mpassword_hash\u001b[49m\u001b[43m,\u001b[49m\u001b[43m \u001b[49m\u001b[43mregister_date\u001b[49m\u001b[43m)\u001b[49m\u001b[43m)\u001b[49m\n\u001b[1;32m     18\u001b[0m \u001b[38;5;28;01mfor\u001b[39;00m _ \u001b[38;5;129;01min\u001b[39;00m \u001b[38;5;28mrange\u001b[39m(\u001b[38;5;241m5\u001b[39m):\n\u001b[1;32m     19\u001b[0m     name \u001b[38;5;241m=\u001b[39m random\u001b[38;5;241m.\u001b[39mchoices([\u001b[38;5;124m\"\u001b[39m\u001b[38;5;124mpinga\u001b[39m\u001b[38;5;124m\"\u001b[39m, \u001b[38;5;124m\"\u001b[39m\u001b[38;5;124mwhisky\u001b[39m\u001b[38;5;124m\"\u001b[39m, \u001b[38;5;124m\"\u001b[39m\u001b[38;5;124mcerveja\u001b[39m\u001b[38;5;124m\"\u001b[39m, \u001b[38;5;124m\"\u001b[39m\u001b[38;5;124mchampagne\u001b[39m\u001b[38;5;124m\"\u001b[39m, \u001b[38;5;124m\"\u001b[39m\u001b[38;5;124mvinho\u001b[39m\u001b[38;5;124m\"\u001b[39m], weights \u001b[38;5;241m=\u001b[39m [\u001b[38;5;241m1\u001b[39m, \u001b[38;5;241m1\u001b[39m, \u001b[38;5;241m1\u001b[39m, \u001b[38;5;241m1\u001b[39m, \u001b[38;5;241m1\u001b[39m], k \u001b[38;5;241m=\u001b[39m \u001b[38;5;241m1\u001b[39m)[\u001b[38;5;241m0\u001b[39m]\n",
      "\u001b[0;31mIntegrityError\u001b[0m: Duplicate entry '71' for key 'PRIMARY'"
     ]
    }
   ],
   "source": [
    "#Inicializando o Faker\n",
    "faker = Faker()\n",
    "\n",
    "# #Inserindo dados fake\n",
    "for _ in range(100):  \n",
    "    document = _\n",
    "    first_name = faker.first_name()\n",
    "    last_name = faker.last_name()   \n",
    "    email = faker.email()\n",
    "    password_hash = faker.md5(raw_output=False)\n",
    "    register_date = faker.date_time()\n",
    "\n",
    "    cursor.execute('''\n",
    "        INSERT INTO user (document, first_name, last_name, email, password_hash, register_date)\n",
    "        VALUES (%s, %s, %s, %s, %s, %s)\n",
    "    ''', (document, first_name, last_name, email, password_hash, register_date))\n",
    "\n",
    "for _ in range(5):\n",
    "    name = random.choices([\"pinga\", \"whisky\", \"cerveja\", \"champagne\", \"vinho\"], weights = [1, 1, 1, 1, 1], k = 1)[0]\n",
    "    category = random.choices([\"categoria1\", \"categoria2\", \"categoria3\"], weights = [1, 1, 1], k = 1)[0]\n",
    "    description = random.choices([\"lorem ipsum ipsum\", \"lorem ipsaaam ipsaam\", \"lorem ipsaaam ipsaam lorem lorem\"], weights = [10, 1, 1], k = 1)[0]\n",
    "    stock = random.choices([1, 3, 5, 7, 9, 13], weights = [1, 1, 1, 1, 1, 1], k = 1)[0]\n",
    "    price = random.choices([20.99, 3.99, 5.44, 7.99, 9.99, 13.00], weights = [1, 1, 1, 1, 1, 1], k = 1)[0]\n",
    "\n",
    "    cursor.execute('''\n",
    "        INSERT INTO product (name, category, description, stock, price)\n",
    "        VALUES (%s, %s, %s, %s, %s)\n",
    "    ''', (name, category, description, stock, price))\n",
    "\n",
    "for _ in range(4):\n",
    "    status_name = random.choices([\"aberto\", \"faturado\", \"despachado\", \"em_separacao\"], weights = [1, 1, 1, 1], k = 1)[0]\n",
    "    cursor.execute('''\n",
    "        INSERT INTO order_status (status_name) VALUES (%s)\n",
    "    ''', (status_name,))\n",
    "\n",
    "for _ in range(3):\n",
    "    payment_name = random.choices([\"cartao de credito\", \"boleto\", \"pix\"], weights=[1, 1, 1], k=1)[0]\n",
    "    cursor.execute('''\n",
    "        INSERT INTO payment (payment_name) VALUES (%s)\n",
    "    ''', (payment_name,))\n",
    "\n",
    "for _ in range(10):\n",
    "    id_payment = random.choices([1, 2, 3], weights = [1, 1, 1], k = 1)[0]\n",
    "    user_document = random.choices([71, 227, 259], weights = [1, 1, 1], k = 1)[0]\n",
    "    order_date = faker.date_time()\n",
    "    payment_date = faker.date_time()\n",
    "    destination_address = random.choices([\"Avenue first\", \"Avenue second\", \"Avenue third\"], weights = [10, 1, 1], k = 1)[0]\n",
    "    id_order_status = random.choices([1, 2, 3, 4], weights = [1, 1, 1, 1], k = 1)[0]\n",
    "\n",
    "    cursor.execute('''\n",
    "        INSERT INTO orders (id_payment, user_document, order_date, payment_date, destination_address, id_order_status)\n",
    "        VALUES (%s, %s, %s, %s, %s, %s)\n",
    "    ''', (id_payment, user_document, order_date, payment_date, destination_address, id_order_status))\n",
    "\n",
    "for _ in range(15):\n",
    "    id_order = random.choices([1, 2, 3, 4, 5, 6, 7, 8, 9, 10], weights = [1, 1, 1, 1, 1, 1, 1, 1, 1, 1], k = 1)[0]\n",
    "    id_product = random.choices([1, 2, 3, 4, 5], weights = [1, 1, 1, 1, 1], k = 1)[0]\n",
    "    quantity = random.choices([1, 2, 3, 4, 5], weights = [1, 1, 1, 1, 1], k = 1)[0]\n",
    "    unit_price = random.choices([20.99, 3.99, 5.44, 7.99, 9.99, 13.00], weights = [1, 1, 1, 1, 1, 1], k = 1)[0]\n",
    "    order_total = quantity * unit_price\n",
    "    discount = 0\n",
    "\n",
    "    cursor.execute('''\n",
    "        INSERT INTO order_itens (id_order, id_product, quantity, unit_price, order_total, discount)\n",
    "        VALUES (%s, %s, %s, %s, %s, %s)\n",
    "    ''', (id_order, id_product, quantity, unit_price, order_total, discount))\n",
    "    \n",
    "#Commit the transaction\n",
    "db.commit()"
   ]
  },
  {
   "cell_type": "markdown",
   "metadata": {},
   "source": [
    "### Searching for users in users table and result limited in 10"
   ]
  },
  {
   "cell_type": "code",
   "execution_count": 22,
   "metadata": {},
   "outputs": [
    {
     "name": "stdout",
     "output_type": "stream",
     "text": [
      "(71, 'Michelle', 'Burke', datetime.date(1997, 9, 5))\n",
      "(227, 'Courtney', 'Lucero', datetime.date(1994, 9, 17))\n",
      "(246, 'Daisy', 'Stevenson', datetime.date(2012, 3, 10))\n",
      "(250, 'David', 'Clark', datetime.date(1997, 2, 15))\n",
      "(259, 'Shawn', 'Hooper', datetime.date(1993, 10, 2))\n",
      "(293, 'James', 'Harris', datetime.date(2021, 5, 5))\n",
      "(298, 'Benjamin', 'Doyle', datetime.date(1996, 8, 25))\n",
      "(307, 'Sharon', 'Taylor', datetime.date(1981, 12, 16))\n",
      "(352, 'Amanda', 'Wood', datetime.date(1980, 7, 21))\n",
      "(382, 'John', 'Carter', datetime.date(2004, 9, 4))\n"
     ]
    }
   ],
   "source": [
    "query = \"SELECT document, first_name, last_name, register_date FROM user LIMIT 10\"\n",
    "cursor.execute(query)\n",
    "result = cursor.fetchall()\n",
    "\n",
    "for row in result:\n",
    "    print(row)"
   ]
  },
  {
   "cell_type": "markdown",
   "metadata": {},
   "source": [
    "### Searching for products in product table and result limited in 10"
   ]
  },
  {
   "cell_type": "code",
   "execution_count": 8,
   "metadata": {},
   "outputs": [
    {
     "name": "stdout",
     "output_type": "stream",
     "text": [
      "('cerveja', 'categoria2', 'lorem ipsum ipsum', 3, 20.99)\n",
      "('whisky', 'categoria2', 'lorem ipsum ipsum', 13, 5.44)\n",
      "('whisky', 'categoria3', 'lorem ipsum ipsum', 9, 20.99)\n",
      "('cerveja', 'categoria3', 'lorem ipsum ipsum', 5, 7.99)\n",
      "('cerveja', 'categoria1', 'lorem ipsum ipsum', 5, 3.99)\n"
     ]
    }
   ],
   "source": [
    "query = \"SELECT name, category, description, stock, price FROM product LIMIT 10\"\n",
    "cursor.execute(query)\n",
    "result = cursor.fetchall()\n",
    "\n",
    "for row in result:\n",
    "    print(row)"
   ]
  },
  {
   "cell_type": "markdown",
   "metadata": {},
   "source": [
    "### Searching for orders in orders table and result limited in 10"
   ]
  },
  {
   "cell_type": "code",
   "execution_count": 16,
   "metadata": {},
   "outputs": [
    {
     "name": "stdout",
     "output_type": "stream",
     "text": [
      "(2, 71, datetime.datetime(1989, 3, 28, 21, 46, 43), datetime.datetime(1979, 2, 15, 21, 5, 55), 'Avenue first', 1)\n",
      "(3, 227, datetime.datetime(2020, 6, 8, 3, 2, 5), datetime.datetime(1995, 12, 16, 10, 35, 51), 'Avenue first', 4)\n",
      "(3, 227, datetime.datetime(2007, 8, 29, 22, 7, 50), datetime.datetime(2013, 11, 30, 18, 4, 41), 'Avenue first', 2)\n",
      "(3, 71, datetime.datetime(1991, 1, 26, 22, 49, 20), datetime.datetime(1982, 3, 26, 19, 56, 38), 'Avenue first', 3)\n",
      "(1, 227, datetime.datetime(1987, 10, 25, 5, 8, 1), datetime.datetime(1990, 6, 9, 18, 34, 14), 'Avenue first', 4)\n",
      "(3, 259, datetime.datetime(1976, 9, 16, 22, 8, 23), datetime.datetime(2017, 7, 14, 9, 56, 58), 'Avenue first', 3)\n",
      "(2, 259, datetime.datetime(2005, 12, 6, 4, 22, 33), datetime.datetime(1974, 4, 23, 7, 28, 38), 'Avenue first', 2)\n",
      "(3, 227, datetime.datetime(1974, 8, 2, 8, 17, 34), datetime.datetime(2005, 1, 1, 18, 32, 14), 'Avenue first', 2)\n",
      "(1, 259, datetime.datetime(2009, 4, 30, 19, 20, 3), datetime.datetime(2012, 4, 6, 15, 20, 54), 'Avenue first', 3)\n",
      "(3, 259, datetime.datetime(2004, 3, 24, 14, 17, 37), datetime.datetime(1989, 11, 25, 8, 33, 59), 'Avenue first', 2)\n"
     ]
    }
   ],
   "source": [
    "query = \"SELECT id_payment, user_document, order_date, payment_date, destionation_address, id_order_status FROM orders LIMIT 10\"\n",
    "cursor.execute(query)\n",
    "result = cursor.fetchall()\n",
    "\n",
    "for row in result:\n",
    "    print(row)"
   ]
  },
  {
   "cell_type": "markdown",
   "metadata": {},
   "source": [
    "### Searching for order_itens in order_itens table and result limited in 10"
   ]
  },
  {
   "cell_type": "code",
   "execution_count": 13,
   "metadata": {},
   "outputs": [
    {
     "name": "stdout",
     "output_type": "stream",
     "text": [
      "(4, 5, 5, 7.99, 39.95, 0.0)\n",
      "(2, 4, 2, 13.0, 26.0, 0.0)\n",
      "(4, 3, 4, 3.99, 15.96, 0.0)\n",
      "(3, 3, 4, 5.44, 21.76, 0.0)\n",
      "(8, 2, 2, 5.44, 10.88, 0.0)\n",
      "(2, 1, 1, 13.0, 13.0, 0.0)\n",
      "(3, 1, 4, 7.99, 31.96, 0.0)\n",
      "(5, 1, 3, 3.99, 11.97, 0.0)\n",
      "(9, 2, 5, 5.44, 27.2, 0.0)\n",
      "(10, 4, 3, 9.99, 29.97, 0.0)\n"
     ]
    }
   ],
   "source": [
    "query = \"SELECT id_order, id_product, quantity, unit_price, order_total, discount FROM order_itens LIMIT 10\"\n",
    "cursor.execute(query)\n",
    "result = cursor.fetchall()\n",
    "\n",
    "for row in result:\n",
    "    print(row)"
   ]
  },
  {
   "cell_type": "markdown",
   "metadata": {},
   "source": [
    "### Connecting to the key-value Redis using Python and the lib redis."
   ]
  },
  {
   "cell_type": "code",
   "execution_count": 23,
   "metadata": {},
   "outputs": [
    {
     "name": "stdout",
     "output_type": "stream",
     "text": [
      "[(0, 'Debra', 'Atkins', 'simskathleen@example.com', '7efc1ac920a515cb046f782cde608496', datetime.date(1994, 3, 27)), (1, 'Amber', 'Ruiz', 'jennifercortez@example.org', 'a3949a7b1443172f2c1da300f988026b', datetime.date(1994, 5, 11)), (2, 'Jessica', 'Harris', 'ericcummings@example.com', '01d93988e8c58556e5f349bd9a1ae751', datetime.date(2020, 8, 16)), (3, 'Eric', 'Guzman', 'lambjustin@example.net', '3f93d165f353f2ab6b5f01e3f63f74ba', datetime.date(1984, 1, 31)), (4, 'Beth', 'Garcia', 'uford@example.com', 'f071fde04fd3f4a4f1a9c8d13a6837f6', datetime.date(1972, 4, 13)), (5, 'Jared', 'Flores', 'dcarter@example.com', '4c55e1f3c0176eab573c719dfef91471', datetime.date(2008, 11, 13)), (6, 'Timothy', 'Evans', 'uoneal@example.com', '92c6a218be66fbcdb863a0c91c940fca', datetime.date(2015, 12, 8)), (7, 'Elizabeth', 'Morris', 'courtney15@example.net', 'ebc00ad55e93eed46406d92b94f72198', datetime.date(2000, 5, 17)), (8, 'Lisa', 'Watts', 'ijarvis@example.com', '1414f452af56144099140e711b48ca23', datetime.date(1995, 6, 3)), (9, 'Adam', 'Roth', 'pereztimothy@example.net', '222187bc849df3dea70bfa3d52130811', datetime.date(1990, 5, 24)), (10, 'Jody', 'Ortiz', 'brandon64@example.org', 'b4ec322d0fbd491e15236fa1654cf0c2', datetime.date(2022, 12, 26)), (11, 'William', 'Martinez', 'jasonwalker@example.net', '3258e680233319797e7695ab7727e112', datetime.date(2011, 12, 7)), (12, 'Melody', 'Gomez', 'thomas49@example.com', '06d834efa626d3298580715653663c4c', datetime.date(1975, 7, 13)), (13, 'John', 'Reyes', 'williamstammy@example.net', 'ac54b1448b4b679ae0f79ed6b6d16bb9', datetime.date(1970, 4, 13)), (14, 'Dennis', 'Jones', 'spatterson@example.org', 'e72c5bacd29b8228560cdeb0f947628d', datetime.date(1978, 2, 1)), (15, 'Alexander', 'Martinez', 'nataliecurry@example.com', '5bae037621c3ec9c335b4e0ddebf120e', datetime.date(2006, 4, 15)), (16, 'Amber', 'Thompson', 'rachaelanderson@example.net', '7a374f8c1f47713bfcb2df7da60fa2b9', datetime.date(1983, 4, 8)), (17, 'Kathleen', 'Lawson', 'nramos@example.net', 'cce734c99c43ef65e028504c219fe2dc', datetime.date(2011, 9, 14)), (18, 'David', 'Zamora', 'hdavis@example.com', '7f60dbeb8eef6a175b15c011ef9d2397', datetime.date(2010, 7, 10)), (19, 'Mark', 'Wood', 'williamwilliams@example.net', '8befc592ba06cc33eba680c039d99c99', datetime.date(2005, 5, 25)), (20, 'Ivan', 'Shields', 'ronald30@example.com', '503e354a4e7e95e31120aecf98c5e3b1', datetime.date(2001, 12, 22)), (21, 'Rebecca', 'Soto', 'rperez@example.com', '2ae9aaa7dab92612c4356788158553c8', datetime.date(1980, 9, 27)), (22, 'Kevin', 'Cabrera', 'snyderjames@example.com', 'cfa1565c794e1e1da06af67ebb453351', datetime.date(1996, 5, 5)), (23, 'David', 'Morgan', 'jamie21@example.org', '1c4feeafb18c884bdc8120c9c0bd20ff', datetime.date(1998, 4, 26)), (24, 'Kimberly', 'Perez', 'oprice@example.net', '37d8d0bc227dc7b860545748d36291ef', datetime.date(2016, 6, 24)), (25, 'Jeffery', 'Richardson', 'brenda31@example.org', '7fc31a88a57963e892210ef77e1a58a2', datetime.date(2008, 2, 3)), (26, 'Michael', 'Turner', 'josephjensen@example.net', '8ca0138c4055f5e03961532c77aa5ad4', datetime.date(2005, 5, 27)), (27, 'Robert', 'Johnson', 'jose57@example.org', '325714f0ecb4f60a178139d34de640e4', datetime.date(2009, 5, 15)), (28, 'Susan', 'Macias', 'chammond@example.com', '4d100e23f5bf26e27616f16c00a327b8', datetime.date(2019, 6, 27)), (29, 'Kathleen', 'Wolf', 'youngkathryn@example.net', '0e844cd7319c213718df9762ee116e4e', datetime.date(2001, 11, 4)), (30, 'Christopher', 'Owen', 'elizabethcalderon@example.org', 'a2218b1c281a92097176a20a255d9570', datetime.date(2015, 11, 26)), (31, 'Patricia', 'Pratt', 'sharon58@example.org', '858eb4e94d341d9ad80df66802d1e519', datetime.date(1990, 2, 6)), (32, 'Matthew', 'Hicks', 'hstokes@example.com', '08a38b2048a5eb8038e57797113624d6', datetime.date(1985, 10, 6)), (33, 'Ashley', 'Lopez', 'dfernandez@example.com', 'fe0a8ba1ab6c4fc20af5d63143921683', datetime.date(2006, 1, 21)), (34, 'Sara', 'Tapia', 'annfrench@example.org', '4f42cf86b59acc8ea70731f060ad2912', datetime.date(1985, 10, 28)), (35, 'Robert', 'Simmons', 'andrewwhite@example.org', 'dffa4c2760861538c9c099a099d28d4d', datetime.date(2006, 8, 22)), (36, 'Jeanette', 'Barnes', 'garciasteven@example.org', 'fc284d74bbb27c71e00eaa192b652eee', datetime.date(1999, 5, 7)), (37, 'Gerald', 'George', 'michael54@example.org', '49c653e7981fc591c33bd2848d863b8c', datetime.date(2006, 12, 9)), (38, 'Kayla', 'Bentley', 'daniel97@example.org', '063d644c486b7fcc3b2b3d2a7ab49c54', datetime.date(1990, 5, 25)), (39, 'Kevin', 'House', 'ricardo41@example.org', '05fb4f67a750ab69ae8d369771c9aa23', datetime.date(1981, 12, 21)), (40, 'Diane', 'Carpenter', 'pwilson@example.org', '5343ecfb08befea03a43fe4ffb8c81a6', datetime.date(1995, 12, 18)), (41, 'Jason', 'Lawson', 'bryanherrera@example.com', 'fbd5b49cb73644e7dbdf834e27d240de', datetime.date(1976, 12, 9)), (42, 'Arthur', 'Roberson', 'john12@example.com', '7b9b79cd68e20bd398aef1737618fbd0', datetime.date(1977, 1, 26)), (43, 'Patrick', 'Brown', 'jsanchez@example.net', '5bed415507558695780d91c5bff03a6f', datetime.date(1992, 8, 6)), (44, 'Robert', 'Shepherd', 'klong@example.net', 'de34c4d359bad238a5bcca6b229111d7', datetime.date(2012, 3, 4)), (45, 'Kristy', 'Lewis', 'churchmichelle@example.net', '9bd276a0f44e842b4bb239abb50f04fd', datetime.date(2021, 6, 25)), (46, 'Mackenzie', 'Joyce', 'garymorrow@example.com', 'c3b432d6648428d93441ce99d35c49b7', datetime.date(2001, 6, 8)), (47, 'Kimberly', 'Edwards', 'lyonsmatthew@example.org', '8ccff359e3334600eaf015f7efaa19ed', datetime.date(1975, 1, 6)), (48, 'Andrew', 'Moran', 'solisdebra@example.net', 'b57d72072109bd8a588b29ef3e3874b2', datetime.date(1973, 8, 23)), (49, 'Greg', 'Villarreal', 'ruizerin@example.org', 'd2b7c4836db9f0b5b86fa7af7d7fd2eb', datetime.date(2002, 1, 15)), (50, 'Maria', 'Murphy', 'duffygregory@example.com', '2145a3b054815d175df18aaffc346c15', datetime.date(2016, 8, 10)), (51, 'Norman', 'Wade', 'jgarcia@example.com', '207e933f0088ec932bbab72ea61ef4e6', datetime.date(2003, 12, 13)), (52, 'Tammy', 'Ray', 'msellers@example.com', '0dcf3b2b53bc4846f4cd14c016a32e68', datetime.date(1970, 7, 23)), (53, 'Julie', 'Turner', 'qfitzgerald@example.org', '074fe4192b52b5309d4378d2b403050f', datetime.date(2018, 12, 4)), (54, 'Timothy', 'Brown', 'jessica95@example.net', '7772cfcc279069542e59fd9b805a6efd', datetime.date(1975, 8, 6)), (55, 'Mia', 'Rodriguez', 'reginasmith@example.net', 'ce15e57081b86482ed4f4bd575c2a950', datetime.date(1995, 4, 27)), (56, 'Zachary', 'Johnson', 'tammyfaulkner@example.net', '9295f4bb37158221b3fbf18ef640328b', datetime.date(2003, 10, 17)), (57, 'Jean', 'Mitchell', 'maria20@example.org', '90a08a08aafc1a1a5f32071bcb53aefa', datetime.date(2021, 2, 27)), (58, 'Matthew', 'Haley', 'teresa33@example.net', '20d48c39c17524abad5a3964bd7e36a1', datetime.date(1977, 5, 25)), (59, 'Richard', 'Harris', 'larryrodriguez@example.net', '1d7308cd0fead9e17dc04340f968cca4', datetime.date(1985, 5, 4)), (60, 'Daniel', 'Salazar', 'kinglarry@example.com', 'f6451043ef077c0ca07ba9f804c15ea2', datetime.date(1979, 3, 31)), (61, 'Robert', 'Colon', 'kestrada@example.org', '55e4f2a1c661b2d4eff75c98e1ab9f4b', datetime.date(2016, 8, 21)), (62, 'Michael', 'Jackson', 'james00@example.org', '9127a6d62524b3f6372b7fc05111dd59', datetime.date(1998, 8, 12)), (63, 'Mary', 'Brooks', 'harrisonmelissa@example.net', '74c1c7b887302015c2ef7d7f7f01edf9', datetime.date(1986, 2, 21)), (64, 'Matthew', 'Reid', 'khenry@example.net', '2003fc2e35e4305df9b3667d531c9c61', datetime.date(2018, 6, 13)), (65, 'Pamela', 'Chapman', 'burkejacob@example.org', '7d1bf55a901415dd850cf220d1503fad', datetime.date(2020, 10, 15)), (66, 'Julie', 'Christian', 'heather83@example.org', 'bf849679720c1528c20bcac04d4a398f', datetime.date(1984, 1, 7)), (67, 'Cassandra', 'Smith', 'timothylewis@example.com', 'b7b0c890b7d4356080fcfef4d8723fd3', datetime.date(1979, 8, 10)), (68, 'Gloria', 'Stokes', 'dhall@example.org', 'febeb1e5628b5da92694458233bce008', datetime.date(2021, 8, 6)), (69, 'Pamela', 'Keller', 'ghernandez@example.com', '45a7734157b7e1c700afe98e45d0a06f', datetime.date(1978, 5, 28)), (70, 'Brittany', 'Romero', 'jbrown@example.net', 'df7bf10864f07f72952748400e6ba73d', datetime.date(1973, 3, 7)), (71, 'Michelle', 'Burke', 'johnbrown@example.org', '8269d4fcfda6f84d405ab40af07ec95e', datetime.date(1997, 9, 5)), (227, 'Courtney', 'Lucero', 'clee@example.com', 'a2a2dcb29145c09faa212c0b042a8876', datetime.date(1994, 9, 17)), (246, 'Daisy', 'Stevenson', 'silvamichael@example.org', '45b644c12c91b73ba050ceac939cf5ca', datetime.date(2012, 3, 10)), (250, 'David', 'Clark', 'wfields@example.org', '4ddb69d296a7d26efee4f45c5bd78822', datetime.date(1997, 2, 15)), (259, 'Shawn', 'Hooper', 'tammy19@example.com', '04f00bad6a92453b7e92a86ec929f867', datetime.date(1993, 10, 2)), (293, 'James', 'Harris', 'erinsoto@example.org', '13bd2f38a3f03c8e6dbcbb289998fbf0', datetime.date(2021, 5, 5)), (298, 'Benjamin', 'Doyle', 'allenlynch@example.com', '0b99fb222e5573d853eb2d894d643d22', datetime.date(1996, 8, 25)), (307, 'Sharon', 'Taylor', 'smithheather@example.net', 'ed0d9b52e78f35775ed49a7cf01705f6', datetime.date(1981, 12, 16)), (352, 'Amanda', 'Wood', 'ybridges@example.com', '2b349e8ea98dba6c33baa8b19e41930f', datetime.date(1980, 7, 21)), (382, 'John', 'Carter', 'cynthia97@example.org', '1dbe2c32fa975cc7e1bfc1cb2f3a60a1', datetime.date(2004, 9, 4)), (388, 'Emma', 'Sutton', 'garycollins@example.org', 'be30a438564e491a188eefafc3786fd9', datetime.date(2016, 11, 13)), (514, 'Jamie', 'Wagner', 'fowen@example.com', 'e61cde4c7db546a434f598376d9bc800', datetime.date(2019, 1, 6)), (554, 'Joseph', 'Patterson', 'ronaldlee@example.com', 'aa8630c7590096ea4c4ca7f24f411eae', datetime.date(1988, 4, 16)), (575, 'Wesley', 'White', 'corey62@example.com', '3f846e66e25364ae94763c3fa01733d0', datetime.date(1970, 8, 5)), (582, 'Natasha', 'Murphy', 'david12@example.net', 'f926a944bd1ab3eee0eb712694b27ddd', datetime.date(1974, 5, 16)), (590, 'Tonya', 'Humphrey', 'andersonzoe@example.net', '7eb141d3f6b4570446e44c7210780bd3', datetime.date(2003, 12, 1)), (633, 'Jessica', 'Rios', 'acooper@example.net', 'aad4c0151f0e698f36f3293594b6a6c9', datetime.date(2023, 4, 22)), (678, 'Steven', 'Hampton', 'nancykemp@example.org', '6fadddb3c3dd7863e2aad596df490c99', datetime.date(2002, 12, 16)), (682, 'Tiffany', 'Rose', 'bryantbrian@example.net', '9b1f4a73cb1f6d89468f7b868d26d457', datetime.date(1999, 10, 14)), (698, 'Michael', 'Jones', 'wlittle@example.com', 'c66747118da3a8ee588828c71684e5ff', datetime.date(2021, 3, 31)), (773, 'Nathan', 'Miller', 'dennisbennett@example.net', '9aa657a78f53d6941d5e6a557be4cb03', datetime.date(1975, 1, 20)), (795, 'Holly', 'Miller', 'conleyanne@example.com', 'd8f1ac5d0b9f953d27249332295e076a', datetime.date(1976, 2, 21)), (862, 'William', 'Hudson', 'benjamin83@example.com', '5ee5464cb2659a714411adcb3e68e6d2', datetime.date(1994, 2, 11)), (886, 'Dan', 'Herrera', 'rlewis@example.org', 'c59a1c77f12d8b63d513127c1e25a3c3', datetime.date(2020, 1, 7)), (903, 'Anna', 'Phelps', 'justin65@example.com', '13a12ca57d32efbba12a26978d96ca86', datetime.date(1978, 5, 22)), (934, 'Brooke', 'Patterson', 'xparker@example.com', '74a2a51db7fb8e94a6304bb354e61271', datetime.date(1997, 12, 18)), (949, 'Jason', 'Barber', 'deansabrina@example.net', '73bb04a3a8b201bcec1bab4a1f40cdc2', datetime.date(1979, 5, 15)), (962, 'Michael', 'Lamb', 'bonniehayden@example.org', '3d055fe2ac12de424181e320a740c7d2', datetime.date(2007, 4, 4)), (964, 'Ray', 'Bishop', 'kristin62@example.net', '2b96c7e3467bfc8f3e9bd1853f813b6b', datetime.date(1981, 5, 4)), (968, 'David', 'Young', 'scottmiranda@example.org', 'de34e45c48a45f85f77b5dd76d84e9d8', datetime.date(2020, 6, 17)), (981, 'Kyle', 'Anderson', 'lestermichelle@example.net', '40df31dc7989b4c30dad4b3946710704', datetime.date(1998, 11, 27)), (996, 'Nicole', 'Perkins', 'john40@example.org', 'fe05ee644de257f074c73a5c0a1f5c25', datetime.date(1992, 5, 29)), (1094, 'Michael', 'Gonzales', 'jobrien@example.net', '3df1effff9d965eb85473253f211b463', datetime.date(1994, 9, 21)), (1538, 'Maria', 'Chen', 'asmith@example.org', '09bdf25aced2ec68c9b1fe494b71e81b', datetime.date(1994, 7, 20)), (1920, 'Lisa', 'Young', 'tyoung@example.net', 'a1c9e5e244982ae6597605c0f43e49e9', datetime.date(2022, 3, 15)), (1980, 'Tonya', 'Lawson', 'iball@example.com', '21bcb022c3227396f629c79396cf81a5', datetime.date(1984, 7, 26)), (2182, 'Melanie', 'Jennings', 'johnstephens@example.org', 'ce4bb78cb9a74a1daa7377884728143e', datetime.date(1999, 4, 15)), (2826, 'Angela', 'Dorsey', 'yhudson@example.com', '0e1df1d64a0c16ec351c7889673dba73', datetime.date(1992, 5, 15)), (2871, 'Martin', 'Cunningham', 'barbarabrooks@example.com', 'd4a5bbed7fc5a8e7165d0eab74aa5649', datetime.date(1981, 11, 11)), (3216, 'Maria', 'Martinez', 'powelldarren@example.net', 'b07c16414f6a6a36a1b945600a5a1aa6', datetime.date(1994, 3, 28)), (3361, 'Kristina', 'Gomez', 'lopezcory@example.com', 'b314c9d89ea70d9749da84d74cd64637', datetime.date(1978, 12, 8)), (3527, 'Samantha', 'Barker', 'cameronmarquez@example.org', '6f130a3d460d9f54fbe71ffc147ef2cc', datetime.date(1974, 10, 13)), (3557, 'Philip', 'Johnson', 'dperez@example.com', 'df44306237b60b8d6d41a54e45645ab7', datetime.date(1987, 7, 13)), (3962, 'Kristine', 'Hernandez', 'nwatson@example.com', 'a15e2504cf76478314071dbd2a997ba3', datetime.date(2004, 11, 22)), (4092, 'Nathaniel', 'Williams', 'heathercollins@example.org', '10a8730c802a34eae8db54b07c31f1a9', datetime.date(2016, 9, 23)), (4247, 'James', 'Mitchell', 'sandragomez@example.org', '0031aefff3bd169c2dc87c1ccf90f176', datetime.date(2017, 1, 1)), (4275, 'Debra', 'Pitts', 'gregoryfoster@example.com', 'f14a036b51f83a9e19701dfb982a82d4', datetime.date(1983, 11, 5)), (4366, 'Diane', 'Leonard', 'hubbardricky@example.com', '2af4b8d9379807eaec5c808a7463b935', datetime.date(1987, 7, 25)), (4380, 'Kimberly', 'Webb', 'michele73@example.org', 'ce9152ef604ad709f78d909c2622c311', datetime.date(1984, 4, 9)), (4532, 'Anthony', 'Smith', 'barrettrachel@example.org', '6e2d1870ae5e38c6ddd7249355e9911c', datetime.date(2011, 5, 28)), (4566, 'Tyler', 'Ruiz', 'burkechristina@example.com', '28043cb5e53a64f2cee214c40192c2af', datetime.date(2022, 1, 24)), (4570, 'Thomas', 'Murray', 'michellesalazar@example.com', 'ecccb57b38c0d3fea86cf92b84c78bd4', datetime.date(2014, 6, 12)), (5385, 'Linda', 'Cook', 'brianlittle@example.org', 'e079492d18a35b1d19d3d29aa9ab6cc7', datetime.date(1973, 6, 29)), (5520, 'Jason', 'Hunt', 'rebeccacalhoun@example.com', 'd85efa05012080652ce822e32e5c7424', datetime.date(2018, 7, 26)), (6308, 'Peter', 'Oneal', 'victoria85@example.com', '58618c0bc0eacde12cd19e26a39f1eac', datetime.date(2011, 6, 26)), (6683, 'Jason', 'Smith', 'rmorgan@example.org', 'e044f73a13c614abe4916b22f5f2e756', datetime.date(2014, 7, 14)), (6830, 'Lisa', 'Grant', 'tharris@example.com', '1fa85edd7d9dcc6fc45d7c38cff5787e', datetime.date(1989, 1, 9)), (7058, 'Tara', 'Wood', 'christinacollins@example.net', '256ddd63adad976294d90ce5302c7e11', datetime.date(2006, 10, 22)), (7416, 'Tom', 'Randall', 'rodriguezlarry@example.org', 'ea71324e4173970a393d56e6ea23bac7', datetime.date(2006, 1, 28)), (7660, 'Theresa', 'Sharp', 'cristinagarrett@example.org', 'c398088f4e3d64d4bcdea694328a92b2', datetime.date(1976, 2, 4)), (7729, 'Maria', 'Gomez', 'storres@example.com', 'c5e16c28cc06869848aaee6432b15d65', datetime.date(2021, 5, 2)), (7962, 'Susan', 'Smith', 'murphymichael@example.org', 'f670bca3e207ce23eb896a52b3cd693d', datetime.date(2018, 9, 29)), (8219, 'Susan', 'Juarez', 'janice51@example.org', 'e817ae40d0a0726ff5254c5722b6dcb0', datetime.date(1980, 4, 15)), (8348, 'Isabel', 'Gallagher', 'rhondahamilton@example.org', '190628442287d36214cdfa4cb54db95b', datetime.date(1980, 2, 28)), (8355, 'Raymond', 'Yang', 'mendezgregory@example.com', 'dbd5690afddc53b75a56565635d73964', datetime.date(2013, 2, 24)), (9393, 'Darren', 'Wallace', 'qarnold@example.net', 'b50fae415532d3f1ad3bf74e738662b5', datetime.date(2021, 4, 20)), (9657, 'Christopher', 'Sherman', 'taylorbrown@example.net', '15b01092328954f44c9b8c6bfc7c5124', datetime.date(1994, 2, 16)), (9737, 'Mary', 'Cole', 'jonesjennifer@example.org', '58697ee7f271256857fff94ad26d535a', datetime.date(2017, 5, 2)), (11701, 'Aaron', 'Livingston', 'salinasmarie@example.org', '3728cd1f7aa9ab41fbefe7c8e12b8a37', datetime.date(2009, 10, 2)), (17146, 'Mark', 'Anderson', 'kyle93@example.org', '3c30007fce14e8614d87b6558e2873b0', datetime.date(1999, 6, 15)), (18513, 'Tyler', 'Simon', 'kimberlyhernandez@example.com', '0106c7ecc63a4c1b1e97b62dedda3a8d', datetime.date(2019, 2, 4)), (19934, 'Nicholas', 'Davis', 'zferguson@example.org', '4c9156dbc6419e5c4a17cdf27c4112ee', datetime.date(2008, 6, 9)), (22379, 'Sarah', 'Robinson', 'madison89@example.org', 'a1832a2fa541e53c3cfe33b124f1dec3', datetime.date(1981, 4, 4)), (24564, 'Danielle', 'Quinn', 'danielpaul@example.org', '9b6980dd102367efa5f6b48aa4cd290a', datetime.date(2013, 4, 1)), (31198, 'Barry', 'Sims', 'codyarroyo@example.net', '5af683d0abb98ba9c42cbc43193561b6', datetime.date(1992, 7, 11)), (32442, 'Kimberly', 'Rodriguez', 'amber12@example.com', 'd8db7aaadfaa980ed24ff5b60926e30a', datetime.date(2010, 5, 9)), (34419, 'Scott', 'Roberts', 'carolineprice@example.net', '12ddd23df4219fdaaf15cd4c7975e0b9', datetime.date(1995, 3, 19)), (35218, 'Patricia', 'Robinson', 'craig66@example.com', 'b33b30e30c524aa2e837a65ef5497819', datetime.date(2014, 11, 7)), (35839, 'Juan', 'Andrews', 'tmoran@example.com', 'f365a9834e09f9df4b7e6b6ae8681be0', datetime.date(2005, 10, 11)), (39468, 'John', 'Davila', 'amber03@example.net', 'cb9ca0b9083129abf7a8682995c94947', datetime.date(1988, 12, 6)), (43584, 'George', 'Thompson', 'pacecorey@example.com', '53ba308616a3748824d40d83420f1d7b', datetime.date(1986, 5, 28)), (46807, 'Charles', 'Suarez', 'atyler@example.net', '10dafceae414161bdcbdab26b1c91655', datetime.date(2004, 9, 17)), (48866, 'Annette', 'Ward', 'zmartinez@example.net', '8d1c8890ff9c7c564e91ccf21fed827c', datetime.date(2006, 11, 1)), (50625, 'Gwendolyn', 'Kirk', 'linda45@example.com', '7963b1023c0aeed88c717dcc3403e5e1', datetime.date(1988, 12, 15)), (51355, 'Brendan', 'Martin', 'briannataylor@example.org', 'ff2863cc24f800dda6344d62023c958f', datetime.date(1997, 7, 10)), (54184, 'Laura', 'Cox', 'kbaker@example.net', '9dc0afdf199c7a907c01e5da45999a7e', datetime.date(1989, 3, 24)), (60073, 'Lisa', 'Johnson', 'simscharles@example.com', 'f59146954e7377ce098813c6c5639410', datetime.date(1999, 12, 21)), (61123, 'Bryan', 'Allen', 'kristen60@example.com', '1f74a2c97c5940ee2eea88cdbae6ae16', datetime.date(1970, 6, 13)), (61940, 'Ashley', 'Ramirez', 'scottschwartz@example.net', '17a5bc1a430582a4d334494750a7fd36', datetime.date(1974, 4, 11)), (62030, 'Arthur', 'Bauer', 'christopherthornton@example.net', '4894920a3e30c17efe7d356037f3da2d', datetime.date(2013, 12, 7)), (67239, 'Donna', 'Powell', 'garciaeric@example.net', '004cedd5d77d3fca437b8e20eae45404', datetime.date(1973, 1, 6)), (74779, 'Steven', 'Jones', 'mary83@example.net', 'c90dbd56796364d1918bea8d2304a46d', datetime.date(1975, 5, 8)), (85534, 'Emily', 'Mcpherson', 'wjones@example.com', '8e57be9a836c0d978d28a6c4cff8995d', datetime.date(2013, 11, 21)), (85602, 'Jeffrey', 'Perry', 'atkinsonjoshua@example.net', 'db5d22a8a64b6d1e640de1b659a624f2', datetime.date(2002, 12, 18)), (85717, 'Elaine', 'Ware', 'susanjames@example.com', '3e6ba5a23bd8c3d1514304f100939de2', datetime.date(2019, 7, 30)), (87328, 'Benjamin', 'Mays', 'ocooper@example.org', '481ea19880e29d6d5c407ec05bf5b07a', datetime.date(1980, 7, 8)), (88413, 'Jessica', 'Wheeler', 'marissa12@example.net', '12258dae83e0e9df1c4ebbb1ac095639', datetime.date(2024, 1, 16)), (95385, 'Peter', 'Martinez', 'austinjohn@example.com', 'b595d6a3cacc88f20b98c84cd4ae0df5', datetime.date(2017, 8, 5)), (98825, 'Christopher', 'Luna', 'yangtanya@example.net', 'd233bbe01a9a9a12af1a93dc3175fa7d', datetime.date(2012, 11, 17)), (99463, 'Kyle', 'Dalton', 'franklin25@example.com', '1e35af1d15afe37f89ef1df97c529a2d', datetime.date(1995, 10, 24))]\n"
     ]
    }
   ],
   "source": [
    "# Connect to Redis\n",
    "cache = redis.Redis(host='127.0.0.1', port=6379, db=0)"
   ]
  },
  {
   "cell_type": "markdown",
   "metadata": {},
   "source": [
    "### Example of use a redis for caching a data to return fast an information and protect a relational database for excessive load "
   ]
  },
  {
   "cell_type": "code",
   "execution_count": 24,
   "metadata": {},
   "outputs": [
    {
     "name": "stdout",
     "output_type": "stream",
     "text": [
      "[(0, 'Debra', 'Atkins', 'simskathleen@example.com', '7efc1ac920a515cb046f782cde608496', datetime.date(1994, 3, 27)), (1, 'Amber', 'Ruiz', 'jennifercortez@example.org', 'a3949a7b1443172f2c1da300f988026b', datetime.date(1994, 5, 11)), (2, 'Jessica', 'Harris', 'ericcummings@example.com', '01d93988e8c58556e5f349bd9a1ae751', datetime.date(2020, 8, 16)), (3, 'Eric', 'Guzman', 'lambjustin@example.net', '3f93d165f353f2ab6b5f01e3f63f74ba', datetime.date(1984, 1, 31)), (4, 'Beth', 'Garcia', 'uford@example.com', 'f071fde04fd3f4a4f1a9c8d13a6837f6', datetime.date(1972, 4, 13)), (5, 'Jared', 'Flores', 'dcarter@example.com', '4c55e1f3c0176eab573c719dfef91471', datetime.date(2008, 11, 13)), (6, 'Timothy', 'Evans', 'uoneal@example.com', '92c6a218be66fbcdb863a0c91c940fca', datetime.date(2015, 12, 8)), (7, 'Elizabeth', 'Morris', 'courtney15@example.net', 'ebc00ad55e93eed46406d92b94f72198', datetime.date(2000, 5, 17)), (8, 'Lisa', 'Watts', 'ijarvis@example.com', '1414f452af56144099140e711b48ca23', datetime.date(1995, 6, 3)), (9, 'Adam', 'Roth', 'pereztimothy@example.net', '222187bc849df3dea70bfa3d52130811', datetime.date(1990, 5, 24)), (10, 'Jody', 'Ortiz', 'brandon64@example.org', 'b4ec322d0fbd491e15236fa1654cf0c2', datetime.date(2022, 12, 26)), (11, 'William', 'Martinez', 'jasonwalker@example.net', '3258e680233319797e7695ab7727e112', datetime.date(2011, 12, 7)), (12, 'Melody', 'Gomez', 'thomas49@example.com', '06d834efa626d3298580715653663c4c', datetime.date(1975, 7, 13)), (13, 'John', 'Reyes', 'williamstammy@example.net', 'ac54b1448b4b679ae0f79ed6b6d16bb9', datetime.date(1970, 4, 13)), (14, 'Dennis', 'Jones', 'spatterson@example.org', 'e72c5bacd29b8228560cdeb0f947628d', datetime.date(1978, 2, 1)), (15, 'Alexander', 'Martinez', 'nataliecurry@example.com', '5bae037621c3ec9c335b4e0ddebf120e', datetime.date(2006, 4, 15)), (16, 'Amber', 'Thompson', 'rachaelanderson@example.net', '7a374f8c1f47713bfcb2df7da60fa2b9', datetime.date(1983, 4, 8)), (17, 'Kathleen', 'Lawson', 'nramos@example.net', 'cce734c99c43ef65e028504c219fe2dc', datetime.date(2011, 9, 14)), (18, 'David', 'Zamora', 'hdavis@example.com', '7f60dbeb8eef6a175b15c011ef9d2397', datetime.date(2010, 7, 10)), (19, 'Mark', 'Wood', 'williamwilliams@example.net', '8befc592ba06cc33eba680c039d99c99', datetime.date(2005, 5, 25)), (20, 'Ivan', 'Shields', 'ronald30@example.com', '503e354a4e7e95e31120aecf98c5e3b1', datetime.date(2001, 12, 22)), (21, 'Rebecca', 'Soto', 'rperez@example.com', '2ae9aaa7dab92612c4356788158553c8', datetime.date(1980, 9, 27)), (22, 'Kevin', 'Cabrera', 'snyderjames@example.com', 'cfa1565c794e1e1da06af67ebb453351', datetime.date(1996, 5, 5)), (23, 'David', 'Morgan', 'jamie21@example.org', '1c4feeafb18c884bdc8120c9c0bd20ff', datetime.date(1998, 4, 26)), (24, 'Kimberly', 'Perez', 'oprice@example.net', '37d8d0bc227dc7b860545748d36291ef', datetime.date(2016, 6, 24)), (25, 'Jeffery', 'Richardson', 'brenda31@example.org', '7fc31a88a57963e892210ef77e1a58a2', datetime.date(2008, 2, 3)), (26, 'Michael', 'Turner', 'josephjensen@example.net', '8ca0138c4055f5e03961532c77aa5ad4', datetime.date(2005, 5, 27)), (27, 'Robert', 'Johnson', 'jose57@example.org', '325714f0ecb4f60a178139d34de640e4', datetime.date(2009, 5, 15)), (28, 'Susan', 'Macias', 'chammond@example.com', '4d100e23f5bf26e27616f16c00a327b8', datetime.date(2019, 6, 27)), (29, 'Kathleen', 'Wolf', 'youngkathryn@example.net', '0e844cd7319c213718df9762ee116e4e', datetime.date(2001, 11, 4)), (30, 'Christopher', 'Owen', 'elizabethcalderon@example.org', 'a2218b1c281a92097176a20a255d9570', datetime.date(2015, 11, 26)), (31, 'Patricia', 'Pratt', 'sharon58@example.org', '858eb4e94d341d9ad80df66802d1e519', datetime.date(1990, 2, 6)), (32, 'Matthew', 'Hicks', 'hstokes@example.com', '08a38b2048a5eb8038e57797113624d6', datetime.date(1985, 10, 6)), (33, 'Ashley', 'Lopez', 'dfernandez@example.com', 'fe0a8ba1ab6c4fc20af5d63143921683', datetime.date(2006, 1, 21)), (34, 'Sara', 'Tapia', 'annfrench@example.org', '4f42cf86b59acc8ea70731f060ad2912', datetime.date(1985, 10, 28)), (35, 'Robert', 'Simmons', 'andrewwhite@example.org', 'dffa4c2760861538c9c099a099d28d4d', datetime.date(2006, 8, 22)), (36, 'Jeanette', 'Barnes', 'garciasteven@example.org', 'fc284d74bbb27c71e00eaa192b652eee', datetime.date(1999, 5, 7)), (37, 'Gerald', 'George', 'michael54@example.org', '49c653e7981fc591c33bd2848d863b8c', datetime.date(2006, 12, 9)), (38, 'Kayla', 'Bentley', 'daniel97@example.org', '063d644c486b7fcc3b2b3d2a7ab49c54', datetime.date(1990, 5, 25)), (39, 'Kevin', 'House', 'ricardo41@example.org', '05fb4f67a750ab69ae8d369771c9aa23', datetime.date(1981, 12, 21)), (40, 'Diane', 'Carpenter', 'pwilson@example.org', '5343ecfb08befea03a43fe4ffb8c81a6', datetime.date(1995, 12, 18)), (41, 'Jason', 'Lawson', 'bryanherrera@example.com', 'fbd5b49cb73644e7dbdf834e27d240de', datetime.date(1976, 12, 9)), (42, 'Arthur', 'Roberson', 'john12@example.com', '7b9b79cd68e20bd398aef1737618fbd0', datetime.date(1977, 1, 26)), (43, 'Patrick', 'Brown', 'jsanchez@example.net', '5bed415507558695780d91c5bff03a6f', datetime.date(1992, 8, 6)), (44, 'Robert', 'Shepherd', 'klong@example.net', 'de34c4d359bad238a5bcca6b229111d7', datetime.date(2012, 3, 4)), (45, 'Kristy', 'Lewis', 'churchmichelle@example.net', '9bd276a0f44e842b4bb239abb50f04fd', datetime.date(2021, 6, 25)), (46, 'Mackenzie', 'Joyce', 'garymorrow@example.com', 'c3b432d6648428d93441ce99d35c49b7', datetime.date(2001, 6, 8)), (47, 'Kimberly', 'Edwards', 'lyonsmatthew@example.org', '8ccff359e3334600eaf015f7efaa19ed', datetime.date(1975, 1, 6)), (48, 'Andrew', 'Moran', 'solisdebra@example.net', 'b57d72072109bd8a588b29ef3e3874b2', datetime.date(1973, 8, 23)), (49, 'Greg', 'Villarreal', 'ruizerin@example.org', 'd2b7c4836db9f0b5b86fa7af7d7fd2eb', datetime.date(2002, 1, 15)), (50, 'Maria', 'Murphy', 'duffygregory@example.com', '2145a3b054815d175df18aaffc346c15', datetime.date(2016, 8, 10)), (51, 'Norman', 'Wade', 'jgarcia@example.com', '207e933f0088ec932bbab72ea61ef4e6', datetime.date(2003, 12, 13)), (52, 'Tammy', 'Ray', 'msellers@example.com', '0dcf3b2b53bc4846f4cd14c016a32e68', datetime.date(1970, 7, 23)), (53, 'Julie', 'Turner', 'qfitzgerald@example.org', '074fe4192b52b5309d4378d2b403050f', datetime.date(2018, 12, 4)), (54, 'Timothy', 'Brown', 'jessica95@example.net', '7772cfcc279069542e59fd9b805a6efd', datetime.date(1975, 8, 6)), (55, 'Mia', 'Rodriguez', 'reginasmith@example.net', 'ce15e57081b86482ed4f4bd575c2a950', datetime.date(1995, 4, 27)), (56, 'Zachary', 'Johnson', 'tammyfaulkner@example.net', '9295f4bb37158221b3fbf18ef640328b', datetime.date(2003, 10, 17)), (57, 'Jean', 'Mitchell', 'maria20@example.org', '90a08a08aafc1a1a5f32071bcb53aefa', datetime.date(2021, 2, 27)), (58, 'Matthew', 'Haley', 'teresa33@example.net', '20d48c39c17524abad5a3964bd7e36a1', datetime.date(1977, 5, 25)), (59, 'Richard', 'Harris', 'larryrodriguez@example.net', '1d7308cd0fead9e17dc04340f968cca4', datetime.date(1985, 5, 4)), (60, 'Daniel', 'Salazar', 'kinglarry@example.com', 'f6451043ef077c0ca07ba9f804c15ea2', datetime.date(1979, 3, 31)), (61, 'Robert', 'Colon', 'kestrada@example.org', '55e4f2a1c661b2d4eff75c98e1ab9f4b', datetime.date(2016, 8, 21)), (62, 'Michael', 'Jackson', 'james00@example.org', '9127a6d62524b3f6372b7fc05111dd59', datetime.date(1998, 8, 12)), (63, 'Mary', 'Brooks', 'harrisonmelissa@example.net', '74c1c7b887302015c2ef7d7f7f01edf9', datetime.date(1986, 2, 21)), (64, 'Matthew', 'Reid', 'khenry@example.net', '2003fc2e35e4305df9b3667d531c9c61', datetime.date(2018, 6, 13)), (65, 'Pamela', 'Chapman', 'burkejacob@example.org', '7d1bf55a901415dd850cf220d1503fad', datetime.date(2020, 10, 15)), (66, 'Julie', 'Christian', 'heather83@example.org', 'bf849679720c1528c20bcac04d4a398f', datetime.date(1984, 1, 7)), (67, 'Cassandra', 'Smith', 'timothylewis@example.com', 'b7b0c890b7d4356080fcfef4d8723fd3', datetime.date(1979, 8, 10)), (68, 'Gloria', 'Stokes', 'dhall@example.org', 'febeb1e5628b5da92694458233bce008', datetime.date(2021, 8, 6)), (69, 'Pamela', 'Keller', 'ghernandez@example.com', '45a7734157b7e1c700afe98e45d0a06f', datetime.date(1978, 5, 28)), (70, 'Brittany', 'Romero', 'jbrown@example.net', 'df7bf10864f07f72952748400e6ba73d', datetime.date(1973, 3, 7)), (71, 'Michelle', 'Burke', 'johnbrown@example.org', '8269d4fcfda6f84d405ab40af07ec95e', datetime.date(1997, 9, 5)), (227, 'Courtney', 'Lucero', 'clee@example.com', 'a2a2dcb29145c09faa212c0b042a8876', datetime.date(1994, 9, 17)), (246, 'Daisy', 'Stevenson', 'silvamichael@example.org', '45b644c12c91b73ba050ceac939cf5ca', datetime.date(2012, 3, 10)), (250, 'David', 'Clark', 'wfields@example.org', '4ddb69d296a7d26efee4f45c5bd78822', datetime.date(1997, 2, 15)), (259, 'Shawn', 'Hooper', 'tammy19@example.com', '04f00bad6a92453b7e92a86ec929f867', datetime.date(1993, 10, 2)), (293, 'James', 'Harris', 'erinsoto@example.org', '13bd2f38a3f03c8e6dbcbb289998fbf0', datetime.date(2021, 5, 5)), (298, 'Benjamin', 'Doyle', 'allenlynch@example.com', '0b99fb222e5573d853eb2d894d643d22', datetime.date(1996, 8, 25)), (307, 'Sharon', 'Taylor', 'smithheather@example.net', 'ed0d9b52e78f35775ed49a7cf01705f6', datetime.date(1981, 12, 16)), (352, 'Amanda', 'Wood', 'ybridges@example.com', '2b349e8ea98dba6c33baa8b19e41930f', datetime.date(1980, 7, 21)), (382, 'John', 'Carter', 'cynthia97@example.org', '1dbe2c32fa975cc7e1bfc1cb2f3a60a1', datetime.date(2004, 9, 4)), (388, 'Emma', 'Sutton', 'garycollins@example.org', 'be30a438564e491a188eefafc3786fd9', datetime.date(2016, 11, 13)), (514, 'Jamie', 'Wagner', 'fowen@example.com', 'e61cde4c7db546a434f598376d9bc800', datetime.date(2019, 1, 6)), (554, 'Joseph', 'Patterson', 'ronaldlee@example.com', 'aa8630c7590096ea4c4ca7f24f411eae', datetime.date(1988, 4, 16)), (575, 'Wesley', 'White', 'corey62@example.com', '3f846e66e25364ae94763c3fa01733d0', datetime.date(1970, 8, 5)), (582, 'Natasha', 'Murphy', 'david12@example.net', 'f926a944bd1ab3eee0eb712694b27ddd', datetime.date(1974, 5, 16)), (590, 'Tonya', 'Humphrey', 'andersonzoe@example.net', '7eb141d3f6b4570446e44c7210780bd3', datetime.date(2003, 12, 1)), (633, 'Jessica', 'Rios', 'acooper@example.net', 'aad4c0151f0e698f36f3293594b6a6c9', datetime.date(2023, 4, 22)), (678, 'Steven', 'Hampton', 'nancykemp@example.org', '6fadddb3c3dd7863e2aad596df490c99', datetime.date(2002, 12, 16)), (682, 'Tiffany', 'Rose', 'bryantbrian@example.net', '9b1f4a73cb1f6d89468f7b868d26d457', datetime.date(1999, 10, 14)), (698, 'Michael', 'Jones', 'wlittle@example.com', 'c66747118da3a8ee588828c71684e5ff', datetime.date(2021, 3, 31)), (773, 'Nathan', 'Miller', 'dennisbennett@example.net', '9aa657a78f53d6941d5e6a557be4cb03', datetime.date(1975, 1, 20)), (795, 'Holly', 'Miller', 'conleyanne@example.com', 'd8f1ac5d0b9f953d27249332295e076a', datetime.date(1976, 2, 21)), (862, 'William', 'Hudson', 'benjamin83@example.com', '5ee5464cb2659a714411adcb3e68e6d2', datetime.date(1994, 2, 11)), (886, 'Dan', 'Herrera', 'rlewis@example.org', 'c59a1c77f12d8b63d513127c1e25a3c3', datetime.date(2020, 1, 7)), (903, 'Anna', 'Phelps', 'justin65@example.com', '13a12ca57d32efbba12a26978d96ca86', datetime.date(1978, 5, 22)), (934, 'Brooke', 'Patterson', 'xparker@example.com', '74a2a51db7fb8e94a6304bb354e61271', datetime.date(1997, 12, 18)), (949, 'Jason', 'Barber', 'deansabrina@example.net', '73bb04a3a8b201bcec1bab4a1f40cdc2', datetime.date(1979, 5, 15)), (962, 'Michael', 'Lamb', 'bonniehayden@example.org', '3d055fe2ac12de424181e320a740c7d2', datetime.date(2007, 4, 4)), (964, 'Ray', 'Bishop', 'kristin62@example.net', '2b96c7e3467bfc8f3e9bd1853f813b6b', datetime.date(1981, 5, 4)), (968, 'David', 'Young', 'scottmiranda@example.org', 'de34e45c48a45f85f77b5dd76d84e9d8', datetime.date(2020, 6, 17)), (981, 'Kyle', 'Anderson', 'lestermichelle@example.net', '40df31dc7989b4c30dad4b3946710704', datetime.date(1998, 11, 27)), (996, 'Nicole', 'Perkins', 'john40@example.org', 'fe05ee644de257f074c73a5c0a1f5c25', datetime.date(1992, 5, 29)), (1094, 'Michael', 'Gonzales', 'jobrien@example.net', '3df1effff9d965eb85473253f211b463', datetime.date(1994, 9, 21)), (1538, 'Maria', 'Chen', 'asmith@example.org', '09bdf25aced2ec68c9b1fe494b71e81b', datetime.date(1994, 7, 20)), (1920, 'Lisa', 'Young', 'tyoung@example.net', 'a1c9e5e244982ae6597605c0f43e49e9', datetime.date(2022, 3, 15)), (1980, 'Tonya', 'Lawson', 'iball@example.com', '21bcb022c3227396f629c79396cf81a5', datetime.date(1984, 7, 26)), (2182, 'Melanie', 'Jennings', 'johnstephens@example.org', 'ce4bb78cb9a74a1daa7377884728143e', datetime.date(1999, 4, 15)), (2826, 'Angela', 'Dorsey', 'yhudson@example.com', '0e1df1d64a0c16ec351c7889673dba73', datetime.date(1992, 5, 15)), (2871, 'Martin', 'Cunningham', 'barbarabrooks@example.com', 'd4a5bbed7fc5a8e7165d0eab74aa5649', datetime.date(1981, 11, 11)), (3216, 'Maria', 'Martinez', 'powelldarren@example.net', 'b07c16414f6a6a36a1b945600a5a1aa6', datetime.date(1994, 3, 28)), (3361, 'Kristina', 'Gomez', 'lopezcory@example.com', 'b314c9d89ea70d9749da84d74cd64637', datetime.date(1978, 12, 8)), (3527, 'Samantha', 'Barker', 'cameronmarquez@example.org', '6f130a3d460d9f54fbe71ffc147ef2cc', datetime.date(1974, 10, 13)), (3557, 'Philip', 'Johnson', 'dperez@example.com', 'df44306237b60b8d6d41a54e45645ab7', datetime.date(1987, 7, 13)), (3962, 'Kristine', 'Hernandez', 'nwatson@example.com', 'a15e2504cf76478314071dbd2a997ba3', datetime.date(2004, 11, 22)), (4092, 'Nathaniel', 'Williams', 'heathercollins@example.org', '10a8730c802a34eae8db54b07c31f1a9', datetime.date(2016, 9, 23)), (4247, 'James', 'Mitchell', 'sandragomez@example.org', '0031aefff3bd169c2dc87c1ccf90f176', datetime.date(2017, 1, 1)), (4275, 'Debra', 'Pitts', 'gregoryfoster@example.com', 'f14a036b51f83a9e19701dfb982a82d4', datetime.date(1983, 11, 5)), (4366, 'Diane', 'Leonard', 'hubbardricky@example.com', '2af4b8d9379807eaec5c808a7463b935', datetime.date(1987, 7, 25)), (4380, 'Kimberly', 'Webb', 'michele73@example.org', 'ce9152ef604ad709f78d909c2622c311', datetime.date(1984, 4, 9)), (4532, 'Anthony', 'Smith', 'barrettrachel@example.org', '6e2d1870ae5e38c6ddd7249355e9911c', datetime.date(2011, 5, 28)), (4566, 'Tyler', 'Ruiz', 'burkechristina@example.com', '28043cb5e53a64f2cee214c40192c2af', datetime.date(2022, 1, 24)), (4570, 'Thomas', 'Murray', 'michellesalazar@example.com', 'ecccb57b38c0d3fea86cf92b84c78bd4', datetime.date(2014, 6, 12)), (5385, 'Linda', 'Cook', 'brianlittle@example.org', 'e079492d18a35b1d19d3d29aa9ab6cc7', datetime.date(1973, 6, 29)), (5520, 'Jason', 'Hunt', 'rebeccacalhoun@example.com', 'd85efa05012080652ce822e32e5c7424', datetime.date(2018, 7, 26)), (6308, 'Peter', 'Oneal', 'victoria85@example.com', '58618c0bc0eacde12cd19e26a39f1eac', datetime.date(2011, 6, 26)), (6683, 'Jason', 'Smith', 'rmorgan@example.org', 'e044f73a13c614abe4916b22f5f2e756', datetime.date(2014, 7, 14)), (6830, 'Lisa', 'Grant', 'tharris@example.com', '1fa85edd7d9dcc6fc45d7c38cff5787e', datetime.date(1989, 1, 9)), (7058, 'Tara', 'Wood', 'christinacollins@example.net', '256ddd63adad976294d90ce5302c7e11', datetime.date(2006, 10, 22)), (7416, 'Tom', 'Randall', 'rodriguezlarry@example.org', 'ea71324e4173970a393d56e6ea23bac7', datetime.date(2006, 1, 28)), (7660, 'Theresa', 'Sharp', 'cristinagarrett@example.org', 'c398088f4e3d64d4bcdea694328a92b2', datetime.date(1976, 2, 4)), (7729, 'Maria', 'Gomez', 'storres@example.com', 'c5e16c28cc06869848aaee6432b15d65', datetime.date(2021, 5, 2)), (7962, 'Susan', 'Smith', 'murphymichael@example.org', 'f670bca3e207ce23eb896a52b3cd693d', datetime.date(2018, 9, 29)), (8219, 'Susan', 'Juarez', 'janice51@example.org', 'e817ae40d0a0726ff5254c5722b6dcb0', datetime.date(1980, 4, 15)), (8348, 'Isabel', 'Gallagher', 'rhondahamilton@example.org', '190628442287d36214cdfa4cb54db95b', datetime.date(1980, 2, 28)), (8355, 'Raymond', 'Yang', 'mendezgregory@example.com', 'dbd5690afddc53b75a56565635d73964', datetime.date(2013, 2, 24)), (9393, 'Darren', 'Wallace', 'qarnold@example.net', 'b50fae415532d3f1ad3bf74e738662b5', datetime.date(2021, 4, 20)), (9657, 'Christopher', 'Sherman', 'taylorbrown@example.net', '15b01092328954f44c9b8c6bfc7c5124', datetime.date(1994, 2, 16)), (9737, 'Mary', 'Cole', 'jonesjennifer@example.org', '58697ee7f271256857fff94ad26d535a', datetime.date(2017, 5, 2)), (11701, 'Aaron', 'Livingston', 'salinasmarie@example.org', '3728cd1f7aa9ab41fbefe7c8e12b8a37', datetime.date(2009, 10, 2)), (17146, 'Mark', 'Anderson', 'kyle93@example.org', '3c30007fce14e8614d87b6558e2873b0', datetime.date(1999, 6, 15)), (18513, 'Tyler', 'Simon', 'kimberlyhernandez@example.com', '0106c7ecc63a4c1b1e97b62dedda3a8d', datetime.date(2019, 2, 4)), (19934, 'Nicholas', 'Davis', 'zferguson@example.org', '4c9156dbc6419e5c4a17cdf27c4112ee', datetime.date(2008, 6, 9)), (22379, 'Sarah', 'Robinson', 'madison89@example.org', 'a1832a2fa541e53c3cfe33b124f1dec3', datetime.date(1981, 4, 4)), (24564, 'Danielle', 'Quinn', 'danielpaul@example.org', '9b6980dd102367efa5f6b48aa4cd290a', datetime.date(2013, 4, 1)), (31198, 'Barry', 'Sims', 'codyarroyo@example.net', '5af683d0abb98ba9c42cbc43193561b6', datetime.date(1992, 7, 11)), (32442, 'Kimberly', 'Rodriguez', 'amber12@example.com', 'd8db7aaadfaa980ed24ff5b60926e30a', datetime.date(2010, 5, 9)), (34419, 'Scott', 'Roberts', 'carolineprice@example.net', '12ddd23df4219fdaaf15cd4c7975e0b9', datetime.date(1995, 3, 19)), (35218, 'Patricia', 'Robinson', 'craig66@example.com', 'b33b30e30c524aa2e837a65ef5497819', datetime.date(2014, 11, 7)), (35839, 'Juan', 'Andrews', 'tmoran@example.com', 'f365a9834e09f9df4b7e6b6ae8681be0', datetime.date(2005, 10, 11)), (39468, 'John', 'Davila', 'amber03@example.net', 'cb9ca0b9083129abf7a8682995c94947', datetime.date(1988, 12, 6)), (43584, 'George', 'Thompson', 'pacecorey@example.com', '53ba308616a3748824d40d83420f1d7b', datetime.date(1986, 5, 28)), (46807, 'Charles', 'Suarez', 'atyler@example.net', '10dafceae414161bdcbdab26b1c91655', datetime.date(2004, 9, 17)), (48866, 'Annette', 'Ward', 'zmartinez@example.net', '8d1c8890ff9c7c564e91ccf21fed827c', datetime.date(2006, 11, 1)), (50625, 'Gwendolyn', 'Kirk', 'linda45@example.com', '7963b1023c0aeed88c717dcc3403e5e1', datetime.date(1988, 12, 15)), (51355, 'Brendan', 'Martin', 'briannataylor@example.org', 'ff2863cc24f800dda6344d62023c958f', datetime.date(1997, 7, 10)), (54184, 'Laura', 'Cox', 'kbaker@example.net', '9dc0afdf199c7a907c01e5da45999a7e', datetime.date(1989, 3, 24)), (60073, 'Lisa', 'Johnson', 'simscharles@example.com', 'f59146954e7377ce098813c6c5639410', datetime.date(1999, 12, 21)), (61123, 'Bryan', 'Allen', 'kristen60@example.com', '1f74a2c97c5940ee2eea88cdbae6ae16', datetime.date(1970, 6, 13)), (61940, 'Ashley', 'Ramirez', 'scottschwartz@example.net', '17a5bc1a430582a4d334494750a7fd36', datetime.date(1974, 4, 11)), (62030, 'Arthur', 'Bauer', 'christopherthornton@example.net', '4894920a3e30c17efe7d356037f3da2d', datetime.date(2013, 12, 7)), (67239, 'Donna', 'Powell', 'garciaeric@example.net', '004cedd5d77d3fca437b8e20eae45404', datetime.date(1973, 1, 6)), (74779, 'Steven', 'Jones', 'mary83@example.net', 'c90dbd56796364d1918bea8d2304a46d', datetime.date(1975, 5, 8)), (85534, 'Emily', 'Mcpherson', 'wjones@example.com', '8e57be9a836c0d978d28a6c4cff8995d', datetime.date(2013, 11, 21)), (85602, 'Jeffrey', 'Perry', 'atkinsonjoshua@example.net', 'db5d22a8a64b6d1e640de1b659a624f2', datetime.date(2002, 12, 18)), (85717, 'Elaine', 'Ware', 'susanjames@example.com', '3e6ba5a23bd8c3d1514304f100939de2', datetime.date(2019, 7, 30)), (87328, 'Benjamin', 'Mays', 'ocooper@example.org', '481ea19880e29d6d5c407ec05bf5b07a', datetime.date(1980, 7, 8)), (88413, 'Jessica', 'Wheeler', 'marissa12@example.net', '12258dae83e0e9df1c4ebbb1ac095639', datetime.date(2024, 1, 16)), (95385, 'Peter', 'Martinez', 'austinjohn@example.com', 'b595d6a3cacc88f20b98c84cd4ae0df5', datetime.date(2017, 8, 5)), (98825, 'Christopher', 'Luna', 'yangtanya@example.net', 'd233bbe01a9a9a12af1a93dc3175fa7d', datetime.date(2012, 11, 17)), (99463, 'Kyle', 'Dalton', 'franklin25@example.com', '1e35af1d15afe37f89ef1df97c529a2d', datetime.date(1995, 10, 24))]\n"
     ]
    }
   ],
   "source": [
    "def get_data(query):\n",
    "    cursor = db.cursor()\n",
    "\n",
    "    # Check if data is in cache\n",
    "    cached_data = cache.get(query)\n",
    "    if cached_data:\n",
    "        return pickle.loads(cached_data)\n",
    "\n",
    "    # If not in cache, fetch from database\n",
    "    cursor.execute(query)\n",
    "    result = cursor.fetchall()\n",
    "\n",
    "    # Store result in cache and set ttl with 1 hour\n",
    "    cache.set(query, pickle.dumps(result), ex=3600)\n",
    "\n",
    "    cursor.close()\n",
    "    return result\n",
    "\n",
    "# Example usage\n",
    "query = \"SELECT * FROM user\"\n",
    "data = get_data(query)\n",
    "print(data)"
   ]
  }
 ],
 "metadata": {
  "kernelspec": {
   "display_name": "Python 3",
   "language": "python",
   "name": "python3"
  },
  "language_info": {
   "codemirror_mode": {
    "name": "ipython",
    "version": 3
   },
   "file_extension": ".py",
   "mimetype": "text/x-python",
   "name": "python",
   "nbconvert_exporter": "python",
   "pygments_lexer": "ipython3",
   "version": "3.10.12"
  }
 },
 "nbformat": 4,
 "nbformat_minor": 2
}
