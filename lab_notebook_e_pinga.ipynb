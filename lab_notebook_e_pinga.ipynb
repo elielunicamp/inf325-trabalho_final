{
 "cells": [
  {
   "cell_type": "markdown",
   "metadata": {},
   "source": [
    "# This a database lab of the project e-pinga."
   ]
  },
  {
   "cell_type": "markdown",
   "metadata": {},
   "source": [
    "### Importing libs in Python to use throughout the notebook"
   ]
  },
  {
   "cell_type": "code",
   "execution_count": 44,
   "metadata": {},
   "outputs": [],
   "source": [
    "import redis\n",
    "import pickle\n",
    "import mariadb\n",
    "import sys\n",
    "import random\n",
    "from faker import Faker"
   ]
  },
  {
   "cell_type": "markdown",
   "metadata": {},
   "source": [
    "### Connecting to the relational database MariaDB using Python and the lib mariadb."
   ]
  },
  {
   "cell_type": "code",
   "execution_count": 45,
   "metadata": {},
   "outputs": [],
   "source": [
    "# Conectando ao MariaDB\n",
    "try:\n",
    "    db = mariadb.connect(\n",
    "        host=\"127.0.0.1\",\n",
    "        user=\"epinga_db_user\",\n",
    "        password=\"epinga_db_user_password\",\n",
    "        database=\"epinga_db\",\n",
    "        port=3306\n",
    "    )\n",
    "except mariadb.Error as e:\n",
    "    print(f\"Error connecting to MariaDB Platform: {e}\")\n",
    "    sys.exit(1)\n",
    "\n",
    "cursor = db.cursor()"
   ]
  },
  {
   "cell_type": "markdown",
   "metadata": {},
   "source": [
    "### Populating the MariaDB relational database with data using Faker."
   ]
  },
  {
   "cell_type": "code",
   "execution_count": 46,
   "metadata": {},
   "outputs": [],
   "source": [
    "#Inicializando o Faker\n",
    "faker = Faker()\n",
    "\n",
    "# #Inserindo dados fake\n",
    "for _ in range(100):  \n",
    "    document = _\n",
    "    first_name = faker.first_name()\n",
    "    last_name = faker.last_name()   \n",
    "    email = faker.email()\n",
    "    password_hash = faker.md5(raw_output=False)\n",
    "    register_date = faker.date_time()\n",
    "\n",
    "    cursor.execute('''\n",
    "        INSERT INTO user (document, first_name, last_name, email, password_hash, register_date)\n",
    "        VALUES (%s, %s, %s, %s, %s, %s)\n",
    "    ''', (_, first_name, last_name, email, password_hash, register_date))\n",
    "\n",
    "for _ in range(5):\n",
    "    name = random.choices([\"pinga\", \"whisky\", \"cerveja\", \"champagne\", \"vinho\"], weights = [1, 1, 1, 1, 1], k = 1)[0]\n",
    "    category = random.choices([\"categoria1\", \"categoria2\", \"categoria3\"], weights = [1, 1, 1], k = 1)[0]\n",
    "    description = random.choices([\"lorem ipsum ipsum\", \"lorem ipsaaam ipsaam\", \"lorem ipsaaam ipsaam lorem lorem\"], weights = [10, 1, 1], k = 1)[0]\n",
    "    stock = random.choices([1, 3, 5, 7, 9, 13], weights = [1, 1, 1, 1, 1, 1], k = 1)[0]\n",
    "    price = random.choices([20.99, 3.99, 5.44, 7.99, 9.99, 13.00], weights = [1, 1, 1, 1, 1, 1], k = 1)[0]\n",
    "\n",
    "    cursor.execute('''\n",
    "        INSERT INTO product (name, category, description, stock, price)\n",
    "        VALUES (%s, %s, %s, %s, %s)\n",
    "    ''', (name, category, description, stock, price))\n",
    "\n",
    "for _ in range(4):\n",
    "    status_name = random.choices([\"aberto\", \"faturado\", \"despachado\", \"em_separacao\"], weights = [1, 1, 1, 1], k = 1)[0]\n",
    "    cursor.execute('''\n",
    "        INSERT INTO order_status (status_name) VALUES (%s)\n",
    "    ''', (status_name,))\n",
    "\n",
    "for _ in range(3):\n",
    "    payment_name = random.choices([\"cartao de credito\", \"boleto\", \"pix\"], weights=[1, 1, 1], k=1)[0]\n",
    "    cursor.execute('''\n",
    "        INSERT INTO payment (payment_name) VALUES (%s)\n",
    "    ''', (payment_name,))\n",
    "\n",
    "for _ in range(10):\n",
    "    id_payment = random.choices([1, 2, 3], weights = [1, 1, 1], k = 1)[0]\n",
    "    user_document = random.choices([3, 20, 55], weights = [1, 1, 1], k = 1)[0]\n",
    "    order_date = faker.date_time()\n",
    "    payment_date = faker.date_time()\n",
    "    destination_address = random.choices([\"Avenue first\", \"Avenue second\", \"Avenue third\"], weights = [10, 1, 1], k = 1)[0]\n",
    "    id_order_status = random.choices([1, 2, 3, 4], weights = [1, 1, 1, 1], k = 1)[0]\n",
    "\n",
    "    cursor.execute('''\n",
    "        INSERT INTO orders (id_payment, user_document, order_date, payment_date, destination_address, id_order_status)\n",
    "        VALUES (%s, %s, %s, %s, %s, %s)\n",
    "    ''', (id_payment, user_document, order_date, payment_date, destination_address, id_order_status))\n",
    "\n",
    "for _ in range(15):\n",
    "    id_order = random.choices([1, 2, 3, 4, 5, 6, 7, 8, 9, 10], weights = [1, 1, 1, 1, 1, 1, 1, 1, 1, 1], k = 1)[0]\n",
    "    id_product = random.choices([1, 2, 3, 4, 5], weights = [1, 1, 1, 1, 1], k = 1)[0]\n",
    "    quantity = random.choices([1, 2, 3, 4, 5], weights = [1, 1, 1, 1, 1], k = 1)[0]\n",
    "    unit_price = random.choices([20.99, 3.99, 5.44, 7.99, 9.99, 13.00], weights = [1, 1, 1, 1, 1, 1], k = 1)[0]\n",
    "    order_total = quantity * unit_price\n",
    "    discount = 0\n",
    "\n",
    "    cursor.execute('''\n",
    "        INSERT INTO orders_itens (id_order, id_product, quantity, unit_price, order_total, discount)\n",
    "        VALUES (%s, %s, %s, %s, %s, %s)\n",
    "    ''', (id_order, id_product, quantity, unit_price, order_total, discount))\n",
    "    \n",
    "#Commit the transaction\n",
    "db.commit()"
   ]
  },
  {
   "cell_type": "markdown",
   "metadata": {},
   "source": [
    "### Searching for users in users table and result limited in 10"
   ]
  },
  {
   "cell_type": "code",
   "execution_count": 47,
   "metadata": {},
   "outputs": [
    {
     "name": "stdout",
     "output_type": "stream",
     "text": [
      "(0, 'Lisa', 'Rivers', datetime.date(2016, 8, 29))\n",
      "(1, 'Jonathan', 'Savage', datetime.date(1983, 11, 21))\n",
      "(2, 'Kevin', 'Morales', datetime.date(1971, 8, 27))\n",
      "(3, 'Hailey', 'Powell', datetime.date(2007, 11, 26))\n",
      "(4, 'Kimberly', 'Jackson', datetime.date(1989, 4, 1))\n",
      "(5, 'Michaela', 'Martinez', datetime.date(2015, 7, 17))\n",
      "(6, 'Jimmy', 'Carrillo', datetime.date(2018, 9, 8))\n",
      "(7, 'Carlos', 'Harrison', datetime.date(1980, 7, 29))\n",
      "(8, 'Elizabeth', 'Graham', datetime.date(1975, 4, 30))\n",
      "(9, 'Jeffrey', 'Ware', datetime.date(1986, 9, 28))\n"
     ]
    }
   ],
   "source": [
    "query = \"SELECT document, first_name, last_name, register_date FROM user LIMIT 10\"\n",
    "cursor.execute(query)\n",
    "result = cursor.fetchall()\n",
    "\n",
    "for row in result:\n",
    "    print(row)"
   ]
  },
  {
   "cell_type": "markdown",
   "metadata": {},
   "source": [
    "### Searching for products in product table and result limited in 10"
   ]
  },
  {
   "cell_type": "code",
   "execution_count": 48,
   "metadata": {},
   "outputs": [
    {
     "name": "stdout",
     "output_type": "stream",
     "text": [
      "('whisky', 'categoria1', 'lorem ipsum ipsum', 5, 13.0)\n",
      "('cerveja', 'categoria2', 'lorem ipsum ipsum', 13, 13.0)\n",
      "('champagne', 'categoria2', 'lorem ipsum ipsum', 5, 7.99)\n",
      "('champagne', 'categoria2', 'lorem ipsum ipsum', 9, 5.44)\n",
      "('cerveja', 'categoria3', 'lorem ipsaaam ipsaam', 1, 5.44)\n"
     ]
    }
   ],
   "source": [
    "query = \"SELECT name, category, description, stock, price FROM product LIMIT 10\"\n",
    "cursor.execute(query)\n",
    "result = cursor.fetchall()\n",
    "\n",
    "for row in result:\n",
    "    print(row)"
   ]
  },
  {
   "cell_type": "markdown",
   "metadata": {},
   "source": [
    "### Searching for orders in orders table and result limited in 10"
   ]
  },
  {
   "cell_type": "code",
   "execution_count": 50,
   "metadata": {},
   "outputs": [
    {
     "name": "stdout",
     "output_type": "stream",
     "text": [
      "(2, 3, datetime.datetime(2001, 4, 29, 6, 2, 19), datetime.datetime(2016, 8, 16, 16, 43, 48), 'Avenue first', 2)\n",
      "(2, 20, datetime.datetime(1999, 6, 18, 10, 36, 15), datetime.datetime(2005, 10, 9, 8, 28, 46), 'Avenue first', 1)\n",
      "(1, 20, datetime.datetime(1986, 12, 16, 10, 9, 56), datetime.datetime(1990, 1, 21, 16, 51, 26), 'Avenue second', 1)\n",
      "(3, 3, datetime.datetime(1976, 8, 23, 1, 16, 59), datetime.datetime(2019, 3, 8, 11, 15, 26), 'Avenue first', 1)\n",
      "(2, 20, datetime.datetime(2003, 11, 4, 0, 36, 16), datetime.datetime(2019, 4, 18, 19, 49, 36), 'Avenue second', 1)\n",
      "(2, 20, datetime.datetime(2014, 7, 29, 14, 46, 44), datetime.datetime(2004, 5, 13, 4, 8), 'Avenue first', 4)\n",
      "(1, 3, datetime.datetime(2009, 3, 18, 3, 46, 19), datetime.datetime(1978, 12, 6, 4, 2, 22), 'Avenue first', 2)\n",
      "(3, 3, datetime.datetime(1986, 12, 7, 7, 20, 58), datetime.datetime(2005, 7, 24, 17, 7, 24), 'Avenue first', 4)\n",
      "(2, 55, datetime.datetime(1998, 10, 21, 22, 54, 45), datetime.datetime(2015, 1, 20, 13, 50, 16), 'Avenue third', 2)\n",
      "(2, 3, datetime.datetime(2000, 3, 2, 21, 29, 31), datetime.datetime(1975, 4, 3, 23, 17, 11), 'Avenue third', 4)\n"
     ]
    }
   ],
   "source": [
    "query = \"SELECT id_payment, user_document, order_date, payment_date, destination_address, id_order_status FROM orders LIMIT 10\"\n",
    "cursor.execute(query)\n",
    "result = cursor.fetchall()\n",
    "\n",
    "for row in result:\n",
    "    print(row)"
   ]
  },
  {
   "cell_type": "markdown",
   "metadata": {},
   "source": [
    "### Searching for order_itens in order_itens table and result limited in 10"
   ]
  },
  {
   "cell_type": "code",
   "execution_count": 52,
   "metadata": {},
   "outputs": [
    {
     "name": "stdout",
     "output_type": "stream",
     "text": [
      "(9, 1, 1, 7.99, 7.99, 0.0)\n",
      "(7, 1, 1, 13.0, 13.0, 0.0)\n",
      "(2, 1, 1, 9.99, 9.99, 0.0)\n",
      "(5, 1, 1, 3.99, 3.99, 0.0)\n",
      "(10, 1, 3, 13.0, 39.0, 0.0)\n",
      "(6, 5, 2, 7.99, 15.98, 0.0)\n",
      "(5, 2, 1, 5.44, 5.44, 0.0)\n",
      "(1, 4, 1, 9.99, 9.99, 0.0)\n",
      "(1, 4, 5, 5.44, 27.2, 0.0)\n",
      "(9, 3, 4, 7.99, 31.96, 0.0)\n"
     ]
    }
   ],
   "source": [
    "query = \"SELECT id_order, id_product, quantity, unit_price, order_total, discount FROM orders_itens LIMIT 10\"\n",
    "cursor.execute(query)\n",
    "result = cursor.fetchall()\n",
    "\n",
    "for row in result:\n",
    "    print(row)"
   ]
  },
  {
   "cell_type": "markdown",
   "metadata": {},
   "source": [
    "### Connecting to the key-value Redis using Python and the lib redis."
   ]
  },
  {
   "cell_type": "code",
   "execution_count": 53,
   "metadata": {},
   "outputs": [],
   "source": [
    "# Connect to Redis\n",
    "cache = redis.Redis(host='127.0.0.1', port=6379, db=0)"
   ]
  },
  {
   "cell_type": "markdown",
   "metadata": {},
   "source": [
    "### Example of use a redis for caching a data to return fast an information and protect a relational database for excessive load "
   ]
  },
  {
   "cell_type": "code",
   "execution_count": 54,
   "metadata": {},
   "outputs": [
    {
     "name": "stdout",
     "output_type": "stream",
     "text": [
      "[(71, 'Christopher', 'Chen', 'martinjulie@example.org', '2f259bbeed0489afa25f011ec52173a5', datetime.date(1998, 5, 2))]\n"
     ]
    },
    {
     "data": {
      "text/plain": [
       "True"
      ]
     },
     "execution_count": 54,
     "metadata": {},
     "output_type": "execute_result"
    }
   ],
   "source": [
    "def get_data(query):\n",
    "    cursor = db.cursor()\n",
    "\n",
    "    # Check if data is in cache\n",
    "    cached_data = cache.get(query)\n",
    "    if cached_data:\n",
    "        return pickle.loads(cached_data)\n",
    "\n",
    "    # If not in cache, fetch from database\n",
    "    cursor.execute(query)\n",
    "    result = cursor.fetchall()\n",
    "\n",
    "    # Store result in cache and set ttl with 1 hour\n",
    "    cache.set(query, pickle.dumps(result), ex=3600)\n",
    "\n",
    "    cursor.close()\n",
    "    return result\n",
    "\n",
    "# Example usage\n",
    "query = \"SELECT * FROM user WHERE document = 71\"\n",
    "\n",
    "#First call returns data from mariaDB\n",
    "data = get_data(query)\n",
    "print(data)\n",
    "\n",
    "#Second call returns data from redis\n",
    "data = get_data(query)\n",
    "\n",
    "#Set the cache of our key with 1 second to expire fast\n",
    "cache.expire(query, 1)"
   ]
  }
 ],
 "metadata": {
  "kernelspec": {
   "display_name": "Python 3",
   "language": "python",
   "name": "python3"
  },
  "language_info": {
   "codemirror_mode": {
    "name": "ipython",
    "version": 3
   },
   "file_extension": ".py",
   "mimetype": "text/x-python",
   "name": "python",
   "nbconvert_exporter": "python",
   "pygments_lexer": "ipython3",
   "version": "3.10.12"
  }
 },
 "nbformat": 4,
 "nbformat_minor": 2
}
