{
 "cells": [
  {
   "cell_type": "markdown",
   "id": "cde21be9",
   "metadata": {},
   "source": [
    "# SQL to Python MySQL Script"
   ]
  },
  {
   "cell_type": "markdown",
   "id": "1a21a520",
   "metadata": {},
   "source": [
    "Este notebook executa comandos SQL em um banco de dados MySQL usando `mysql-connector-python`."
   ]
  },
  {
   "cell_type": "code",
   "execution_count": null,
   "id": "e8468136",
   "metadata": {},
   "outputs": [],
   "source": [
    "\n",
    "# Instale a biblioteca necessária, se ainda não tiver feito isso\n",
    "# !pip install mysql-connector-python\n",
    "import mysql.connector\n"
   ]
  },
  {
   "cell_type": "markdown",
   "id": "0a6466a0",
   "metadata": {},
   "source": [
    "## Configuração da Conexão com o Banco de Dados"
   ]
  },
  {
   "cell_type": "code",
   "execution_count": null,
   "id": "119f629d",
   "metadata": {},
   "outputs": [],
   "source": [
    "\n",
    "# Configurações de conexão\n",
    "db_config = {\n",
    "    'user': 'seu_usuario',  # Substitua por seu usuário do MySQL\n",
    "    'password': 'sua_senha',  # Substitua por sua senha do MySQL\n",
    "    'host': 'localhost',  # Substitua por seu host (localhost se for local)\n",
    "    'database': 'mydb'  # O banco de dados a ser usado\n",
    "}\n",
    "\n",
    "# Conectar ao banco de dados\n",
    "connection = mysql.connector.connect(**db_config)\n",
    "cursor = connection.cursor()\n"
   ]
  },
  {
   "cell_type": "markdown",
   "id": "d98addb3",
   "metadata": {},
   "source": [
    "## Desativando verificações temporariamente"
   ]
  },
  {
   "cell_type": "code",
   "execution_count": null,
   "id": "a0d158b9",
   "metadata": {},
   "outputs": [],
   "source": [
    "\n",
    "# Desativando checagem de constraints temporariamente\n",
    "cursor.execute(\"SET @OLD_UNIQUE_CHECKS=@@UNIQUE_CHECKS, UNIQUE_CHECKS=0;\")\n",
    "cursor.execute(\"SET @OLD_FOREIGN_KEY_CHECKS=@@FOREIGN_KEY_CHECKS, FOREIGN_KEY_CHECKS=0;\")\n",
    "cursor.execute(\"SET @OLD_SQL_MODE=@@SQL_MODE, SQL_MODE='TRADITIONAL,ALLOW_INVALID_DATES';\")\n"
   ]
  },
  {
   "cell_type": "markdown",
   "id": "270df933",
   "metadata": {},
   "source": [
    "## Criando o Schema e as Tabelas"
   ]
  },
  {
   "cell_type": "code",
   "execution_count": null,
   "id": "83a34cb0",
   "metadata": {},
   "outputs": [],
   "source": [
    "\n",
    "# Criar schema\n",
    "cursor.execute(\"CREATE SCHEMA IF NOT EXISTS `mydb` DEFAULT CHARACTER SET utf8 COLLATE utf8_general_ci;\")\n",
    "cursor.execute(\"USE `mydb`;\")\n",
    "\n",
    "# Criar tabela usuario\n",
    "cursor.execute(\"\"\"\n",
    "CREATE TABLE IF NOT EXISTS `usuario` (\n",
    "    `cpf` BIGINT NOT NULL,\n",
    "    `nome` VARCHAR(200) NULL,\n",
    "    `dtnascimento` DATE NULL,\n",
    "    `email` VARCHAR(100) NULL,\n",
    "    `senhahash` VARCHAR(30) NULL,\n",
    "    `dtcadastro` DATE NULL,\n",
    "    `classificacao` CHAR(1) NULL,\n",
    "    PRIMARY KEY (`cpf`)\n",
    ") ENGINE = InnoDB;\n",
    "\"\"\")\n",
    "\n",
    "# Criar tabela endereco\n",
    "cursor.execute(\"\"\"\n",
    "CREATE TABLE IF NOT EXISTS `endereco` (\n",
    "    `idendereco` INT NOT NULL,\n",
    "    `rua` VARCHAR(200) NULL,\n",
    "    `cidade` VARCHAR(100) NULL,\n",
    "    `estado` VARCHAR(50) NULL,\n",
    "    `cep` VARCHAR(45) NULL,\n",
    "    `pais` VARCHAR(45) NULL,\n",
    "    `enderecocol` VARCHAR(45) NULL,\n",
    "    `usuario_cpf` BIGINT NULL,\n",
    "    PRIMARY KEY (`idendereco`),\n",
    "    INDEX `usuario_cpf_idx` (`usuario_cpf` ASC),\n",
    "    CONSTRAINT `usuario_cpf`\n",
    "    FOREIGN KEY (`usuario_cpf`)\n",
    "    REFERENCES `usuario` (`cpf`)\n",
    "    ON DELETE NO ACTION\n",
    "    ON UPDATE NO ACTION\n",
    ") ENGINE = InnoDB;\n",
    "\"\"\")\n"
   ]
  },
  {
   "cell_type": "markdown",
   "id": "9bf07120",
   "metadata": {},
   "source": [
    "## Continuando a criação das tabelas..."
   ]
  },
  {
   "cell_type": "code",
   "execution_count": null,
   "id": "e5fd1658",
   "metadata": {},
   "outputs": [],
   "source": [
    "\n",
    "# Criar tabela categoriaproduto\n",
    "cursor.execute(\"\"\"\n",
    "CREATE TABLE IF NOT EXISTS `categoriaproduto` (\n",
    "    `idcategoria` INT NOT NULL,\n",
    "    `nome` VARCHAR(100) NULL,\n",
    "    `descricao` VARCHAR(500) NULL,\n",
    "    PRIMARY KEY (`idcategoria`)\n",
    ") ENGINE = InnoDB;\n",
    "\"\"\")\n",
    "\n",
    "# Criar tabela logista\n",
    "cursor.execute(\"\"\"\n",
    "CREATE TABLE IF NOT EXISTS `logista` (\n",
    "    `cnpj` VARCHAR(30) NOT NULL,\n",
    "    `razaosocial` VARCHAR(100) NULL,\n",
    "    `telefone` VARCHAR(45) NULL,\n",
    "    PRIMARY KEY (`cnpj`)\n",
    ") ENGINE = InnoDB;\n",
    "\"\"\")\n"
   ]
  },
  {
   "cell_type": "markdown",
   "id": "b93976fb",
   "metadata": {},
   "source": [
    "## Finalizando e Restaurando Configurações"
   ]
  },
  {
   "cell_type": "code",
   "execution_count": null,
   "id": "a1f36389",
   "metadata": {},
   "outputs": [],
   "source": [
    "\n",
    "# Restaurando as configurações antigas\n",
    "cursor.execute(\"SET SQL_MODE=@OLD_SQL_MODE;\")\n",
    "cursor.execute(\"SET FOREIGN_KEY_CHECKS=@OLD_FOREIGN_KEY_CHECKS;\")\n",
    "cursor.execute(\"SET UNIQUE_CHECKS=@OLD_UNIQUE_CHECKS;\")\n",
    "\n",
    "# Fechar conexão\n",
    "cursor.close()\n",
    "connection.close()\n",
    "\n",
    "print(\"Script SQL executado com sucesso!\")\n"
   ]
  },
  {
   "cell_type": "code",
   "execution_count": null,
   "id": "9b4c24a1",
   "metadata": {},
   "outputs": [],
   "source": [
    "\n",
    "# Criar tabela produto\n",
    "cursor.execute(\"\"\" \n",
    "CREATE TABLE IF NOT EXISTS `produto` (\n",
    "    `idproduto` INT NOT NULL,\n",
    "    `categoria_idcategoria` INT NOT NULL,\n",
    "    `logista_cnpj` VARCHAR(30) NULL,\n",
    "    `nomeproduto` VARCHAR(300) NULL,\n",
    "    `descricao` VARCHAR(300) NULL,\n",
    "    `qtestoque` INT NULL,\n",
    "    `preco` FLOAT NULL,\n",
    "    PRIMARY KEY (`idproduto`),\n",
    "    INDEX `categoria_idcategoria_idx` (`categoria_idcategoria` ASC),\n",
    "    INDEX `logista_cnpj_idx` (`logista_cnpj` ASC),\n",
    "    CONSTRAINT `categoria_idcategoria`\n",
    "    FOREIGN KEY (`categoria_idcategoria`)\n",
    "    REFERENCES `categoriaproduto` (`idcategoria`)\n",
    "    ON DELETE NO ACTION\n",
    "    ON UPDATE NO ACTION,\n",
    "    CONSTRAINT `logista_cnpj`\n",
    "    FOREIGN KEY (`logista_cnpj`)\n",
    "    REFERENCES `logista` (`cnpj`)\n",
    "    ON DELETE NO ACTION\n",
    "    ON UPDATE NO ACTION\n",
    ") ENGINE = InnoDB;\n",
    "\"\"\")\n"
   ]
  },
  {
   "cell_type": "code",
   "execution_count": null,
   "id": "3e8a1a59",
   "metadata": {},
   "outputs": [],
   "source": [
    "\n",
    "# Criar tabela avaliacao\n",
    "cursor.execute(\"\"\" \n",
    "CREATE TABLE IF NOT EXISTS `avaliacao` (\n",
    "    `idavaliacao` INT NOT NULL,\n",
    "    `usuario_cpf` BIGINT NOT NULL,\n",
    "    `idproduto` INT NOT NULL,\n",
    "    `estrelas` INT NULL,\n",
    "    `comentario` VARCHAR(500) NULL,\n",
    "    `dtavaliacao` DATETIME NULL,\n",
    "    PRIMARY KEY (`idavaliacao`),\n",
    "    INDEX `usuario_cpf_idx` (`usuario_cpf` ASC),\n",
    "    INDEX `produto_idproduto_idx` (`idproduto` ASC),\n",
    "    CONSTRAINT `usuario_cpf`\n",
    "    FOREIGN KEY (`usuario_cpf`)\n",
    "    REFERENCES `usuario` (`cpf`)\n",
    "    ON DELETE NO ACTION\n",
    "    ON UPDATE NO ACTION,\n",
    "    CONSTRAINT `produto_idproduto`\n",
    "    FOREIGN KEY (`idproduto`)\n",
    "    REFERENCES `produto` (`idproduto`)\n",
    "    ON DELETE NO ACTION\n",
    "    ON UPDATE NO ACTION\n",
    ") ENGINE = InnoDB;\n",
    "\"\"\")\n"
   ]
  },
  {
   "cell_type": "code",
   "execution_count": null,
   "id": "61781c63",
   "metadata": {},
   "outputs": [],
   "source": [
    "\n",
    "# Criar tabela carrinho\n",
    "cursor.execute(\"\"\" \n",
    "CREATE TABLE IF NOT EXISTS `carrinho` (\n",
    "    `idcarinho` INT NOT NULL,\n",
    "    `usuario_cpf` BIGINT NOT NULL,\n",
    "    `dtvisita` DATETIME NULL,\n",
    "    `pagina` VARCHAR(45) NULL COMMENT 'URL ou identificador da página vistiada',\n",
    "    PRIMARY KEY (`idcarinho`),\n",
    "    INDEX `usuario_cpf_idx` (`usuario_cpf` ASC),\n",
    "    CONSTRAINT `usuario_cpf`\n",
    "    FOREIGN KEY (`usuario_cpf`)\n",
    "    REFERENCES `usuario` (`cpf`)\n",
    "    ON DELETE NO ACTION\n",
    "    ON UPDATE NO ACTION\n",
    ") ENGINE = InnoDB;\n",
    "\"\"\")\n"
   ]
  },
  {
   "cell_type": "code",
   "execution_count": null,
   "id": "b2878213",
   "metadata": {},
   "outputs": [],
   "source": [
    "\n",
    "# Criar tabela itenscarrinho\n",
    "cursor.execute(\"\"\" \n",
    "CREATE TABLE IF NOT EXISTS `itenscarrinho` (\n",
    "    `iditenscarrinho` INT NOT NULL,\n",
    "    `carrinho_idcarinho` INT NOT NULL,\n",
    "    `produto_idproduto` INT NOT NULL,\n",
    "    `qtitens` INT NULL,\n",
    "    PRIMARY KEY (`iditenscarrinho`),\n",
    "    INDEX `carinho_idcarinho_idx` (`carrinho_idcarinho` ASC),\n",
    "    INDEX `porduto_idproduto_idx` (`produto_idproduto` ASC),\n",
    "    CONSTRAINT `carrinho_idcarinho`\n",
    "    FOREIGN KEY (`carrinho_idcarinho`)\n",
    "    REFERENCES `carrinho` (`idcarinho`)\n",
    "    ON DELETE NO ACTION\n",
    "    ON UPDATE NO ACTION,\n",
    "    CONSTRAINT `porduto_idproduto`\n",
    "    FOREIGN KEY (`produto_idproduto`)\n",
    "    REFERENCES `produto` (`idproduto`)\n",
    "    ON DELETE NO ACTION\n",
    "    ON UPDATE NO ACTION\n",
    ") ENGINE = InnoDB;\n",
    "\"\"\")\n"
   ]
  }
 ],
 "metadata": {},
 "nbformat": 4,
 "nbformat_minor": 5
}
