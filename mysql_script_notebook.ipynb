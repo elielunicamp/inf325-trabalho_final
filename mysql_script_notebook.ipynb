{
 "cells": [
  {
   "cell_type": "markdown",
   "id": "cde21be9",
   "metadata": {},
   "source": [
    "# SQL to Python MySQL Script"
   ]
  },
  {
   "cell_type": "markdown",
   "id": "1a21a520",
   "metadata": {},
   "source": [
    "Este notebook executa comandos SQL em um banco de dados MySQL usando `mysql-connector-python`."
   ]
  },
  {
   "cell_type": "code",
   "execution_count": null,
   "id": "e8468136",
   "metadata": {},
   "outputs": [],
   "source": [
    "\n",
    "# Instale a biblioteca necessária, se ainda não tiver feito isso\n",
    "# !pip install mysql-connector-python\n",
    "import mysql.connector\n"
   ]
  },
  {
   "cell_type": "markdown",
   "id": "0a6466a0",
   "metadata": {},
   "source": [
    "## Configuração da Conexão com o Banco de Dados"
   ]
  },
  {
   "cell_type": "code",
   "execution_count": null,
   "id": "119f629d",
   "metadata": {},
   "outputs": [],
   "source": [
    "\n",
    "# Configurações de conexão\n",
    "db_config = {\n",
    "    'user': 'seu_usuario',  # Substitua por seu usuário do MySQL\n",
    "    'password': 'sua_senha',  # Substitua por sua senha do MySQL\n",
    "    'host': 'localhost',  # Substitua por seu host (localhost se for local)\n",
    "    'database': 'mydb'  # O banco de dados a ser usado\n",
    "}\n",
    "\n",
    "# Conectar ao banco de dados\n",
    "connection = mysql.connector.connect(**db_config)\n",
    "cursor = connection.cursor()\n"
   ]
  },
  {
   "cell_type": "markdown",
   "id": "d98addb3",
   "metadata": {},
   "source": [
    "## Desativando verificações temporariamente"
   ]
  },
  {
   "cell_type": "code",
   "execution_count": null,
   "id": "a0d158b9",
   "metadata": {},
   "outputs": [],
   "source": [
    "\n",
    "# Desativando checagem de constraints temporariamente\n",
    "cursor.execute(\"SET @OLD_UNIQUE_CHECKS=@@UNIQUE_CHECKS, UNIQUE_CHECKS=0;\")\n",
    "cursor.execute(\"SET @OLD_FOREIGN_KEY_CHECKS=@@FOREIGN_KEY_CHECKS, FOREIGN_KEY_CHECKS=0;\")\n",
    "cursor.execute(\"SET @OLD_SQL_MODE=@@SQL_MODE, SQL_MODE='TRADITIONAL,ALLOW_INVALID_DATES';\")\n"
   ]
  },
  {
   "cell_type": "markdown",
   "id": "270df933",
   "metadata": {},
   "source": [
    "## Criando o Schema e as Tabelas"
   ]
  },
  {
   "cell_type": "code",
   "execution_count": null,
   "id": "83a34cb0",
   "metadata": {},
   "outputs": [],
   "source": [
    "\n",
    "# Criar schema\n",
    "cursor.execute(\"CREATE SCHEMA IF NOT EXISTS `mydb` DEFAULT CHARACTER SET utf8 COLLATE utf8_general_ci;\")\n",
    "cursor.execute(\"USE `mydb`;\")\n",
    "\n",
    "# Criar tabela usuario\n",
    "cursor.execute(\"\"\"\n",
    "CREATE TABLE IF NOT EXISTS `usuario` (\n",
    "    `cpf` BIGINT NOT NULL,\n",
    "    `nome` VARCHAR(200) NULL,\n",
    "    `dtnascimento` DATE NULL,\n",
    "    `email` VARCHAR(100) NULL,\n",
    "    `senhahash` VARCHAR(30) NULL,\n",
    "    `dtcadastro` DATE NULL,\n",
    "    `classificacao` CHAR(1) NULL,\n",
    "    PRIMARY KEY (`cpf`)\n",
    ") ENGINE = InnoDB;\n",
    "\"\"\")\n",
    "\n",
    "# Criar tabela endereco\n",
    "cursor.execute(\"\"\"\n",
    "CREATE TABLE IF NOT EXISTS `endereco` (\n",
    "    `idendereco` INT NOT NULL,\n",
    "    `rua` VARCHAR(200) NULL,\n",
    "    `cidade` VARCHAR(100) NULL,\n",
    "    `estado` VARCHAR(50) NULL,\n",
    "    `cep` VARCHAR(45) NULL,\n",
    "    `pais` VARCHAR(45) NULL,\n",
    "    `enderecocol` VARCHAR(45) NULL,\n",
    "    `usuario_cpf` BIGINT NULL,\n",
    "    PRIMARY KEY (`idendereco`),\n",
    "    INDEX `usuario_cpf_idx` (`usuario_cpf` ASC),\n",
    "    CONSTRAINT `usuario_cpf`\n",
    "    FOREIGN KEY (`usuario_cpf`)\n",
    "    REFERENCES `usuario` (`cpf`)\n",
    "    ON DELETE NO ACTION\n",
    "    ON UPDATE NO ACTION\n",
    ") ENGINE = InnoDB;\n",
    "\"\"\")\n"
   ]
  },
  {
   "cell_type": "markdown",
   "id": "9bf07120",
   "metadata": {},
   "source": [
    "## Continuando a criação das tabelas..."
   ]
  },
  {
   "cell_type": "code",
   "execution_count": null,
   "id": "e5fd1658",
   "metadata": {},
   "outputs": [],
   "source": [
    "\n",
    "# Criar tabela categoriaproduto\n",
    "cursor.execute(\"\"\"\n",
    "CREATE TABLE IF NOT EXISTS `categoriaproduto` (\n",
    "    `idcategoria` INT NOT NULL,\n",
    "    `nome` VARCHAR(100) NULL,\n",
    "    `descricao` VARCHAR(500) NULL,\n",
    "    PRIMARY KEY (`idcategoria`)\n",
    ") ENGINE = InnoDB;\n",
    "\"\"\")\n",
    "\n",
    "# Criar tabela logista\n",
    "cursor.execute(\"\"\"\n",
    "CREATE TABLE IF NOT EXISTS `logista` (\n",
    "    `cnpj` VARCHAR(30) NOT NULL,\n",
    "    `razaosocial` VARCHAR(100) NULL,\n",
    "    `telefone` VARCHAR(45) NULL,\n",
    "    PRIMARY KEY (`cnpj`)\n",
    ") ENGINE = InnoDB;\n",
    "\"\"\")\n"
   ]
  },
  {
   "cell_type": "markdown",
   "id": "b93976fb",
   "metadata": {},
   "source": [
    "## Finalizando e Restaurando Configurações"
   ]
  },
  {
   "cell_type": "code",
   "execution_count": null,
   "id": "a1f36389",
   "metadata": {},
   "outputs": [],
   "source": [
    "\n",
    "# Restaurando as configurações antigas\n",
    "cursor.execute(\"SET SQL_MODE=@OLD_SQL_MODE;\")\n",
    "cursor.execute(\"SET FOREIGN_KEY_CHECKS=@OLD_FOREIGN_KEY_CHECKS;\")\n",
    "cursor.execute(\"SET UNIQUE_CHECKS=@OLD_UNIQUE_CHECKS;\")\n",
    "\n",
    "# Fechar conexão\n",
    "cursor.close()\n",
    "connection.close()\n",
    "\n",
    "print(\"Script SQL executado com sucesso!\")\n"
   ]
  }
 ],
 "metadata": {},
 "nbformat": 4,
 "nbformat_minor": 5
}
